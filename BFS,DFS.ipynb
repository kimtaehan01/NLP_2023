{
  "nbformat": 4,
  "nbformat_minor": 0,
  "metadata": {
    "colab": {
      "provenance": [],
      "authorship_tag": "ABX9TyNPddwbZXC8TiUXVgE/nT5W",
      "include_colab_link": true
    },
    "kernelspec": {
      "name": "python3",
      "display_name": "Python 3"
    },
    "language_info": {
      "name": "python"
    }
  },
  "cells": [
    {
      "cell_type": "markdown",
      "metadata": {
        "id": "view-in-github",
        "colab_type": "text"
      },
      "source": [
        "<a href=\"https://colab.research.google.com/github/kimtaehan01/NLP_2023/blob/main/BFS%2CDFS.ipynb\" target=\"_parent\"><img src=\"https://colab.research.google.com/assets/colab-badge.svg\" alt=\"Open In Colab\"/></a>"
      ]
    },
    {
      "cell_type": "code",
      "execution_count": null,
      "metadata": {
        "id": "J8QCwXDllM3w"
      },
      "outputs": [],
      "source": [
        "from collections import deque"
      ]
    },
    {
      "cell_type": "code",
      "source": [
        "graph_list = { \"A\": set([\"B\", \"C\"]),\n",
        "                \"B\": set([\"A\", \"D\"]),\n",
        "                \"C\": set([\"A\", \"D\", \"E\"]),\n",
        "                \"D\": set([\"B\",\"C\",\"F\"]),\n",
        "                \"E\": set([\"C\", \"G\", \"H\"]),\n",
        "                \"F\": set([\"D\",\"E\"]),\n",
        "                \"G\": set([\"E\", \"H\"]),\n",
        "                \"H\": set([\"E\",\"G\"]),\n",
        "               }\n",
        "\n",
        "root_node = \"A\"\n",
        "\n",
        "def bfs(graph, root):\n",
        "    visited = []\n",
        "    queue = deque([root])\n",
        "    while queue:\n",
        "        node = queue.popleft()\n",
        "        if node not in visited:\n",
        "            visited.append(node)\n",
        "            queue.extend( graph[node] - set(visited))\n",
        "    return visited\n",
        "\n",
        "print(bfs(graph_list, root_node))\n"
      ],
      "metadata": {
        "colab": {
          "base_uri": "https://localhost:8080/"
        },
        "id": "agRYtOUrlg3J",
        "outputId": "1cf1916c-b82a-43a4-c03d-208c711b5584"
      },
      "execution_count": null,
      "outputs": [
        {
          "output_type": "stream",
          "name": "stdout",
          "text": [
            "['A', 'B', 'C', 'D', 'E', 'F', 'G', 'H']\n"
          ]
        }
      ]
    },
    {
      "cell_type": "code",
      "source": [
        "def dfs(graph, root):\n",
        "    visited = []\n",
        "    stack = [root]\n",
        "    while stack:\n",
        "        node = stack.pop()\n",
        "        if node not in visited:\n",
        "            visited.append(node)\n",
        "            stack += graph[node] - set(visited)\n",
        "    return visited\n",
        "\n",
        "print(dfs(graph_list, root_node))"
      ],
      "metadata": {
        "colab": {
          "base_uri": "https://localhost:8080/"
        },
        "id": "rQZiRq2Hlr5i",
        "outputId": "d6ac0792-72b8-48a2-ea70-c477318e6903"
      },
      "execution_count": null,
      "outputs": [
        {
          "output_type": "stream",
          "name": "stdout",
          "text": [
            "['A', 'C', 'D', 'F', 'E', 'H', 'G', 'B']\n"
          ]
        }
      ]
    }
  ]
}