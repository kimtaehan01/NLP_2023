{
  "nbformat": 4,
  "nbformat_minor": 0,
  "metadata": {
    "colab": {
      "provenance": [],
      "authorship_tag": "ABX9TyNJl2EorHsHG6YsAI/a2WLp",
      "include_colab_link": true
    },
    "kernelspec": {
      "name": "python3",
      "display_name": "Python 3"
    },
    "language_info": {
      "name": "python"
    }
  },
  "cells": [
    {
      "cell_type": "markdown",
      "metadata": {
        "id": "view-in-github",
        "colab_type": "text"
      },
      "source": [
        "<a href=\"https://colab.research.google.com/github/kimtaehan01/NLP_2023/blob/main/baekjun.ipynb\" target=\"_parent\"><img src=\"https://colab.research.google.com/assets/colab-badge.svg\" alt=\"Open In Colab\"/></a>"
      ]
    },
    {
      "cell_type": "markdown",
      "source": [
        "# 1단계 입출력 및 사칙연산"
      ],
      "metadata": {
        "id": "zO4SC-QhsPaH"
      }
    },
    {
      "cell_type": "markdown",
      "source": [
        "Hello world!"
      ],
      "metadata": {
        "id": "H3l1pd95sY47"
      }
    },
    {
      "cell_type": "code",
      "source": [
        "print(\"Hello World!\")"
      ],
      "metadata": {
        "id": "bC5iNEQksO5C"
      },
      "execution_count": null,
      "outputs": []
    },
    {
      "cell_type": "markdown",
      "source": [
        "A+B"
      ],
      "metadata": {
        "id": "gDDsup-1sPs2"
      }
    },
    {
      "cell_type": "code",
      "execution_count": null,
      "metadata": {
        "colab": {
          "base_uri": "https://localhost:8080/"
        },
        "id": "i4M3lQ6iq3zb",
        "outputId": "ba016dbd-527a-4032-f681-dbd26cc62197"
      },
      "outputs": [
        {
          "output_type": "stream",
          "name": "stdout",
          "text": [
            "12 34\n",
            "46\n"
          ]
        }
      ],
      "source": [
        "x=input()\n",
        "a,b=x.split()\n",
        "print(int(a)+int(b))"
      ]
    },
    {
      "cell_type": "markdown",
      "source": [
        "A-B"
      ],
      "metadata": {
        "id": "B-r0dh7JsxHv"
      }
    },
    {
      "cell_type": "code",
      "source": [
        "x=input()\n",
        "a,b=x.split()\n",
        "print(int(a)-int(b))"
      ],
      "metadata": {
        "colab": {
          "base_uri": "https://localhost:8080/"
        },
        "id": "Wc63iKr3sxcB",
        "outputId": "a1109b8a-5943-46a4-b145-f92d6c99fae0"
      },
      "execution_count": null,
      "outputs": [
        {
          "output_type": "stream",
          "name": "stdout",
          "text": [
            "3 2\n",
            "1\n"
          ]
        }
      ]
    },
    {
      "cell_type": "markdown",
      "source": [
        "A×B"
      ],
      "metadata": {
        "id": "zwUHahxctCBu"
      }
    },
    {
      "cell_type": "code",
      "source": [
        "x=input()\n",
        "a,b=x.split()\n",
        "print(int(a)*int(b))"
      ],
      "metadata": {
        "colab": {
          "base_uri": "https://localhost:8080/"
        },
        "id": "JRUOXf0EtCgz",
        "outputId": "45dec0f0-554f-4b2b-e10b-6039fae90b21"
      },
      "execution_count": null,
      "outputs": [
        {
          "output_type": "stream",
          "name": "stdout",
          "text": [
            "3 2\n",
            "6\n"
          ]
        }
      ]
    },
    {
      "cell_type": "markdown",
      "source": [
        "A/B"
      ],
      "metadata": {
        "id": "h4qoVeFmtTXQ"
      }
    },
    {
      "cell_type": "code",
      "source": [
        "x=input()\n",
        "a,b=x.split()\n",
        "print(int(a)/int(b))"
      ],
      "metadata": {
        "colab": {
          "base_uri": "https://localhost:8080/"
        },
        "id": "xDhcr2KytTp_",
        "outputId": "f4eb82c8-cceb-4511-fe76-8e392fea6263"
      },
      "execution_count": null,
      "outputs": [
        {
          "output_type": "stream",
          "name": "stdout",
          "text": [
            "10 3\n",
            "3.3333333333333335\n"
          ]
        }
      ]
    },
    {
      "cell_type": "markdown",
      "source": [
        "사칙연산"
      ],
      "metadata": {
        "id": "kZhr0B4ctivp"
      }
    },
    {
      "cell_type": "code",
      "source": [
        "x=input()\n",
        "a,b=x.split()\n",
        "print(int(a)+int(b))\n",
        "print(int(a)-int(b))\n",
        "print(int(a)*int(b))\n",
        "print(int(int(a)/int(b)))\n",
        "print(int(a)%int(b))"
      ],
      "metadata": {
        "colab": {
          "base_uri": "https://localhost:8080/"
        },
        "id": "mAw5INrYtiMW",
        "outputId": "b71f325a-59f0-47bf-ec32-a73dc8af278a"
      },
      "execution_count": null,
      "outputs": [
        {
          "output_type": "stream",
          "name": "stdout",
          "text": [
            "7 3\n",
            "10\n",
            "4\n",
            "21\n",
            "2\n",
            "1\n"
          ]
        }
      ]
    },
    {
      "cell_type": "markdown",
      "source": [
        "??!"
      ],
      "metadata": {
        "id": "dTAfIe8Rkki_"
      }
    },
    {
      "cell_type": "code",
      "source": [
        "ID=input()\n",
        "print(ID+\"??!\")"
      ],
      "metadata": {
        "colab": {
          "base_uri": "https://localhost:8080/"
        },
        "id": "WdeVi6P1kmVs",
        "outputId": "0d61ed05-a957-4403-86f9-cc182cb97d5b"
      },
      "execution_count": null,
      "outputs": [
        {
          "output_type": "stream",
          "name": "stdout",
          "text": [
            "tytyty\n",
            "tytyty??!\n"
          ]
        }
      ]
    },
    {
      "cell_type": "markdown",
      "source": [
        "1998년생인 내가 태국에서는 2541년생?!"
      ],
      "metadata": {
        "id": "LcCmU43llIHH"
      }
    },
    {
      "cell_type": "code",
      "source": [
        "year=int(input())\n",
        "print(year-543)"
      ],
      "metadata": {
        "colab": {
          "base_uri": "https://localhost:8080/"
        },
        "id": "y7vh_oZtlMCI",
        "outputId": "88f1764a-e42b-4bde-a92f-3a6548646e44"
      },
      "execution_count": null,
      "outputs": [
        {
          "output_type": "stream",
          "name": "stdout",
          "text": [
            "2541\n",
            "1998\n"
          ]
        }
      ]
    },
    {
      "cell_type": "markdown",
      "source": [
        "나머지\n",
        "첫째 줄에 (A+B)%C, 둘째 줄에 ((A%C) + (B%C))%C, 셋째 줄에 (A×B)%C, 넷째 줄에 ((A%C) × (B%C))%C를 출력한다."
      ],
      "metadata": {
        "id": "LerCm-Hzl5hw"
      }
    },
    {
      "cell_type": "code",
      "source": [
        "x=input()\n",
        "A,B,C=x.split()\n",
        "A=int(A)\n",
        "B=int(B)\n",
        "C=int(C)\n",
        "print((A+B)%C)\n",
        "print(((A%C) + (B%C))%C)\n",
        "print((A*B)%C)\n",
        "print(((A%C) * (B%C))%C)"
      ],
      "metadata": {
        "colab": {
          "base_uri": "https://localhost:8080/"
        },
        "id": "P9jeHn0gl-J8",
        "outputId": "c9d84b77-411e-465c-90c5-4f80e87dbc77"
      },
      "execution_count": null,
      "outputs": [
        {
          "output_type": "stream",
          "name": "stdout",
          "text": [
            "5 8 4\n",
            "1\n",
            "1\n",
            "0\n",
            "0\n"
          ]
        }
      ]
    },
    {
      "cell_type": "markdown",
      "source": [
        "곱셈"
      ],
      "metadata": {
        "id": "DODbRyzmnsah"
      }
    },
    {
      "cell_type": "code",
      "source": [
        "n1=int(input())\n",
        "n2=input()\n",
        "for i in range(2,-1,-1):\n",
        "  print(n1*int(n2[i]))\n",
        "print(n1*int(n2))"
      ],
      "metadata": {
        "colab": {
          "base_uri": "https://localhost:8080/"
        },
        "id": "TZs7ulcIns26",
        "outputId": "b913ba36-fc20-44dc-f56c-46da149560b9"
      },
      "execution_count": null,
      "outputs": [
        {
          "output_type": "stream",
          "name": "stdout",
          "text": [
            "472\n",
            "385\n",
            "2360\n",
            "3776\n",
            "1416\n",
            "181720\n"
          ]
        }
      ]
    },
    {
      "cell_type": "markdown",
      "source": [
        "꼬마 정민\n",
        "\n",
        "꼬마 정민이는 이제 A + B 정도는 쉽게 계산할 수 있다. 이제 A + B + C를 계산할 차례이다!"
      ],
      "metadata": {
        "id": "eU830nN8uELu"
      }
    },
    {
      "cell_type": "code",
      "source": [
        "x=input()\n",
        "A,B,C=x.split()\n",
        "A=int(A)\n",
        "B=int(B)\n",
        "C=int(C)\n",
        "print(A+B+C)"
      ],
      "metadata": {
        "colab": {
          "base_uri": "https://localhost:8080/"
        },
        "id": "WMfjkCK2uJat",
        "outputId": "d8f7c0a4-a38f-4ef4-979a-53476272e210"
      },
      "execution_count": null,
      "outputs": [
        {
          "output_type": "stream",
          "name": "stdout",
          "text": [
            "77 77 7777\n",
            "7931\n"
          ]
        }
      ]
    },
    {
      "cell_type": "markdown",
      "source": [
        "# 2단게 조건문"
      ],
      "metadata": {
        "id": "HcgboEFsxxxF"
      }
    },
    {
      "cell_type": "markdown",
      "source": [
        "두 수 비교하기"
      ],
      "metadata": {
        "id": "Zp6vbZJDx5qL"
      }
    },
    {
      "cell_type": "code",
      "source": [
        "x=input()\n",
        "a,b=x.split()\n",
        "a,b=int(a),int(b)\n",
        "if a>b:\n",
        "  print(\">\")\n",
        "elif a<b:\n",
        "  print(\"<\")\n",
        "else:\n",
        "  print(\"==\")"
      ],
      "metadata": {
        "colab": {
          "base_uri": "https://localhost:8080/"
        },
        "id": "4mTbqTGvx8BH",
        "outputId": "969521c2-119b-4f36-debe-fa2dac7a722d"
      },
      "execution_count": null,
      "outputs": [
        {
          "output_type": "stream",
          "name": "stdout",
          "text": [
            "1 1\n",
            "==\n"
          ]
        }
      ]
    },
    {
      "cell_type": "markdown",
      "source": [
        "시험 성적\n",
        "\n",
        "시험 점수를 입력받아 90 ~ 100점은 A, 80 ~ 89점은 B, 70 ~ 79점은 C, 60 ~ 69점은 D, 나머지 점수는 F를 출력하는 프로그램을 작성하시오."
      ],
      "metadata": {
        "id": "N6ZqUK5pyzh9"
      }
    },
    {
      "cell_type": "code",
      "source": [
        "score=int(input())\n",
        "if score>=90:\n",
        "  print(\"A\")\n",
        "elif score>=80:\n",
        "  print(\"B\")\n",
        "elif score>=70:\n",
        "  print(\"C\")\n",
        "elif score>=60:\n",
        "  print(\"D\")\n",
        "else:\n",
        "  print(\"F\")\n"
      ],
      "metadata": {
        "colab": {
          "base_uri": "https://localhost:8080/"
        },
        "id": "ND1_il0jy3QN",
        "outputId": "31a22870-c665-4b53-a651-aa987dfcdf23"
      },
      "execution_count": null,
      "outputs": [
        {
          "output_type": "stream",
          "name": "stdout",
          "text": [
            "10\n",
            "F\n"
          ]
        }
      ]
    },
    {
      "cell_type": "markdown",
      "source": [
        "윤년\n",
        "\n",
        "연도가 주어졌을 때, 윤년이면 1, 아니면 0을 출력하는 프로그램을 작성하시오.\n",
        "\n",
        "윤년은 연도가 4의 배수이면서, 100의 배수가 아닐 때 또는 400의 배수일 때이다.\n",
        "\n",
        "예를 들어, 2012년은 4의 배수이면서 100의 배수가 아니라서 윤년이다. 1900년은 100의 배수이고 400의 배수는 아니기 때문에 윤년이 아니다. 하지만, 2000년은 400의 배수이기 때문에 윤년이다."
      ],
      "metadata": {
        "id": "6XydzMwjz2H5"
      }
    },
    {
      "cell_type": "code",
      "source": [
        "year=int(input())\n",
        "if year%4==0 and (year%100!=0 or year%400==0):\n",
        "  print(1)\n",
        "else:\n",
        "  print(0)"
      ],
      "metadata": {
        "colab": {
          "base_uri": "https://localhost:8080/"
        },
        "id": "nMO3CW-2z4qQ",
        "outputId": "c71905a4-6008-4a38-874b-2a7ea347e836"
      },
      "execution_count": null,
      "outputs": [
        {
          "output_type": "stream",
          "name": "stdout",
          "text": [
            "1900\n",
            "0\n"
          ]
        }
      ]
    },
    {
      "cell_type": "markdown",
      "source": [
        "사분면 고르기"
      ],
      "metadata": {
        "id": "Pl_4Uf6V1KGe"
      }
    },
    {
      "cell_type": "code",
      "source": [
        "x=int(input())\n",
        "y=int(input())\n",
        "\n",
        "if x>0 and y>0:\n",
        "  print(1)\n",
        "elif x<0 and y>0:\n",
        "  print(2)\n",
        "elif x<0 and y<0:\n",
        "  print(3)\n",
        "elif x>0 and y<0:\n",
        "  print(4)"
      ],
      "metadata": {
        "colab": {
          "base_uri": "https://localhost:8080/"
        },
        "id": "C3OCluUs1MNG",
        "outputId": "a65ecb8c-2481-4609-a770-eddcfa7bef6d"
      },
      "execution_count": null,
      "outputs": [
        {
          "output_type": "stream",
          "name": "stdout",
          "text": [
            "9\n",
            "-13\n",
            "4\n"
          ]
        }
      ]
    },
    {
      "cell_type": "markdown",
      "source": [
        "주사위 세개\n",
        "\n",
        "문제\n",
        "1에서부터 6까지의 눈을 가진 3개의 주사위를 던져서 다음과 같은 규칙에 따라 상금을 받는 게임이 있다.\n",
        "\n",
        "같은 눈이 3개가 나오면 10,000원+(같은 눈)×1,000원의 상금을 받게 된다.\n",
        "같은 눈이 2개만 나오는 경우에는 1,000원+(같은 눈)×100원의 상금을 받게 된다.\n",
        "모두 다른 눈이 나오는 경우에는 (그 중 가장 큰 눈)×100원의 상금을 받게 된다.  \n",
        "예를 들어, 3개의 눈 3, 3, 6이 주어지면 상금은 1,000+3×100으로 계산되어 1,300원을 받게 된다. 또 3개의 눈이 2, 2, 2로 주어지면 10,000+2×1,000 으로 계산되어 12,000원을 받게 된다. 3개의 눈이 6, 2, 5로 주어지면 그중 가장 큰 값이 6이므로 6×100으로 계산되어 600원을 상금으로 받게 된다.\n",
        "\n",
        "3개 주사위의 나온 눈이 주어질 때, 상금을 계산하는 프로그램을 작성 하시오."
      ],
      "metadata": {
        "id": "tvuqK4Is2gtH"
      }
    },
    {
      "cell_type": "code",
      "source": [
        "dice=input()\n",
        "d1,d2,d3=dice.split()\n",
        "d1,d2,d3=int(d1),int(d2),int(d3)\n",
        "if d1==d2 and d2==d3:\n",
        "  print(10000+d1*1000)\n",
        "elif d1==d2:\n",
        "  print(1000+d1*100)\n",
        "elif d3==d2:\n",
        "  print(1000+d2*100)\n",
        "elif d1==d3:\n",
        "  print(1000+d3*100)\n",
        "else:\n",
        "  print(max(d1,d2,d3)*100)"
      ],
      "metadata": {
        "colab": {
          "base_uri": "https://localhost:8080/"
        },
        "id": "iLENvg6m2hym",
        "outputId": "db4966b2-b348-405c-b759-22eb691896f4"
      },
      "execution_count": null,
      "outputs": [
        {
          "output_type": "stream",
          "name": "stdout",
          "text": [
            "3 3 6\n",
            "1300\n"
          ]
        }
      ]
    },
    {
      "cell_type": "markdown",
      "source": [
        "# 3단계 반복문\n",
        "\n"
      ],
      "metadata": {
        "id": "j8dytwix47Dk"
      }
    },
    {
      "cell_type": "markdown",
      "source": [
        "구구단"
      ],
      "metadata": {
        "id": "aEb6hCJ55Ba0"
      }
    },
    {
      "cell_type": "code",
      "source": [
        "n=int(input())\n",
        "for i in range(1,10):\n",
        "  print(n,\"*\",i,\"=\",n*i)"
      ],
      "metadata": {
        "colab": {
          "base_uri": "https://localhost:8080/"
        },
        "id": "VFAicWit4-ZG",
        "outputId": "4eb113b2-d232-4c57-8e0b-9426874fdf44"
      },
      "execution_count": null,
      "outputs": [
        {
          "output_type": "stream",
          "name": "stdout",
          "text": [
            "2\n",
            "2 * 1 = 2\n",
            "2 * 2 = 4\n",
            "2 * 3 = 6\n",
            "2 * 4 = 8\n",
            "2 * 5 = 10\n",
            "2 * 6 = 12\n",
            "2 * 7 = 14\n",
            "2 * 8 = 16\n",
            "2 * 9 = 18\n"
          ]
        }
      ]
    },
    {
      "cell_type": "markdown",
      "source": [
        "A+B - 3"
      ],
      "metadata": {
        "id": "iUw57Ocp5tP9"
      }
    },
    {
      "cell_type": "code",
      "source": [
        "t=int(input())\n",
        "for i in range(0,t):\n",
        "  x=input()\n",
        "  a,b=x.split()\n",
        "  print(int(a)+int(b))"
      ],
      "metadata": {
        "colab": {
          "base_uri": "https://localhost:8080/",
          "height": 309
        },
        "id": "Ca-S7HMn53Fh",
        "outputId": "d2b87f59-21f2-4026-f3e1-73875ab30144"
      },
      "execution_count": null,
      "outputs": [
        {
          "name": "stdout",
          "output_type": "stream",
          "text": [
            "3\n",
            "1 1\n",
            "2\n",
            "3 \n"
          ]
        },
        {
          "output_type": "error",
          "ename": "ValueError",
          "evalue": "ignored",
          "traceback": [
            "\u001b[0;31m---------------------------------------------------------------------------\u001b[0m",
            "\u001b[0;31mValueError\u001b[0m                                Traceback (most recent call last)",
            "\u001b[0;32m<ipython-input-50-887580056c2d>\u001b[0m in \u001b[0;36m<cell line: 2>\u001b[0;34m()\u001b[0m\n\u001b[1;32m      2\u001b[0m \u001b[0;32mfor\u001b[0m \u001b[0mi\u001b[0m \u001b[0;32min\u001b[0m \u001b[0mrange\u001b[0m\u001b[0;34m(\u001b[0m\u001b[0;36m0\u001b[0m\u001b[0;34m,\u001b[0m\u001b[0mt\u001b[0m\u001b[0;34m)\u001b[0m\u001b[0;34m:\u001b[0m\u001b[0;34m\u001b[0m\u001b[0;34m\u001b[0m\u001b[0m\n\u001b[1;32m      3\u001b[0m   \u001b[0mx\u001b[0m\u001b[0;34m=\u001b[0m\u001b[0minput\u001b[0m\u001b[0;34m(\u001b[0m\u001b[0;34m)\u001b[0m\u001b[0;34m\u001b[0m\u001b[0;34m\u001b[0m\u001b[0m\n\u001b[0;32m----> 4\u001b[0;31m   \u001b[0ma\u001b[0m\u001b[0;34m,\u001b[0m\u001b[0mb\u001b[0m\u001b[0;34m=\u001b[0m\u001b[0mx\u001b[0m\u001b[0;34m.\u001b[0m\u001b[0msplit\u001b[0m\u001b[0;34m(\u001b[0m\u001b[0;34m)\u001b[0m\u001b[0;34m\u001b[0m\u001b[0;34m\u001b[0m\u001b[0m\n\u001b[0m\u001b[1;32m      5\u001b[0m   \u001b[0mprint\u001b[0m\u001b[0;34m(\u001b[0m\u001b[0mint\u001b[0m\u001b[0;34m(\u001b[0m\u001b[0ma\u001b[0m\u001b[0;34m)\u001b[0m\u001b[0;34m+\u001b[0m\u001b[0mint\u001b[0m\u001b[0;34m(\u001b[0m\u001b[0mb\u001b[0m\u001b[0;34m)\u001b[0m\u001b[0;34m)\u001b[0m\u001b[0;34m\u001b[0m\u001b[0;34m\u001b[0m\u001b[0m\n",
            "\u001b[0;31mValueError\u001b[0m: not enough values to unpack (expected 2, got 1)"
          ]
        }
      ]
    },
    {
      "cell_type": "markdown",
      "source": [
        "합"
      ],
      "metadata": {
        "id": "NEpzZsq96mkT"
      }
    },
    {
      "cell_type": "code",
      "source": [
        "t=int(input())\n",
        "x=0\n",
        "for i in range(0,t+1):\n",
        "  x+=i\n",
        "print(x)"
      ],
      "metadata": {
        "colab": {
          "base_uri": "https://localhost:8080/"
        },
        "id": "MLHH_qkG6okP",
        "outputId": "6de0c1b7-451b-4f74-cb9f-98ca1656ee28"
      },
      "execution_count": null,
      "outputs": [
        {
          "output_type": "stream",
          "name": "stdout",
          "text": [
            "100\n",
            "5050\n"
          ]
        }
      ]
    },
    {
      "cell_type": "markdown",
      "source": [
        "영수증\n",
        "\n",
        "첫째 줄에는 영수증에 적힌 총 금액\n",
        "$X$가 주어진다.\n",
        "\n",
        "둘째 줄에는 영수증에 적힌 구매한 물건의 종류의 수\n",
        "$N$이 주어진다.\n",
        "\n",
        "이후\n",
        "$N$개의 줄에는 각 물건의 가격\n",
        "$a$와 개수\n",
        "$b$가 공백을 사이에 두고 주어진다."
      ],
      "metadata": {
        "id": "Gv0df3sw7Gi5"
      }
    },
    {
      "cell_type": "code",
      "source": [
        "wp=int(input())\n",
        "t=int(input())\n",
        "sum=0\n",
        "for i in range(0,t):\n",
        "  p=input()\n",
        "  a,b=p.split()\n",
        "  sum+=(int(a)*int(b))\n",
        "if wp==sum:\n",
        "  print(\"Yes\")\n",
        "else:\n",
        "  print(\"No\")"
      ],
      "metadata": {
        "colab": {
          "base_uri": "https://localhost:8080/"
        },
        "id": "0XZKW26T7MmP",
        "outputId": "133e6d41-7bbc-4e46-e972-5046a07e177f"
      },
      "execution_count": null,
      "outputs": [
        {
          "output_type": "stream",
          "name": "stdout",
          "text": [
            "0\n",
            "0\n",
            "Yes\n"
          ]
        }
      ]
    },
    {
      "cell_type": "markdown",
      "source": [
        "코딩은 체육과목 입니다"
      ],
      "metadata": {
        "id": "kjwHI4ER87bW"
      }
    },
    {
      "cell_type": "code",
      "source": [
        "n=int(input())\n",
        "c=int(n/4)\n",
        "mod=n%4\n",
        "p=\"\"\n",
        "for i in range(0,c):\n",
        "  p=p+\"long \"\n",
        "if mod>0:\n",
        "  p=p+\"long int\"\n",
        "else:\n",
        "  p=p+\"int\"\n",
        "print(p)"
      ],
      "metadata": {
        "colab": {
          "base_uri": "https://localhost:8080/"
        },
        "id": "9Q_ZQWmn89eg",
        "outputId": "a46da542-48e9-40c2-9f59-7c117afdf7d2"
      },
      "execution_count": null,
      "outputs": [
        {
          "output_type": "stream",
          "name": "stdout",
          "text": [
            "21\n",
            "long long long long long long int\n"
          ]
        }
      ]
    }
  ]
}