{
  "nbformat": 4,
  "nbformat_minor": 0,
  "metadata": {
    "colab": {
      "provenance": [],
      "include_colab_link": true
    },
    "kernelspec": {
      "name": "python3",
      "display_name": "Python 3"
    },
    "language_info": {
      "name": "python"
    }
  },
  "cells": [
    {
      "cell_type": "markdown",
      "metadata": {
        "id": "view-in-github",
        "colab_type": "text"
      },
      "source": [
        "<a href=\"https://colab.research.google.com/github/kimtaehan01/NLP_2023/blob/main/1%EB%B6%84%EB%B0%98Chap7.ipynb\" target=\"_parent\"><img src=\"https://colab.research.google.com/assets/colab-badge.svg\" alt=\"Open In Colab\"/></a>"
      ]
    },
    {
      "cell_type": "code",
      "source": [
        "import sys\n",
        "sys.setrecursionlimit(100000)\n",
        "print(sys.version)"
      ],
      "metadata": {
        "colab": {
          "base_uri": "https://localhost:8080/"
        },
        "id": "jqD3e7KZYkfi",
        "outputId": "8f0594a1-b6c9-4ad5-d33a-e200221fdf9f"
      },
      "execution_count": null,
      "outputs": [
        {
          "output_type": "stream",
          "name": "stdout",
          "text": [
            "3.10.11 (main, Apr  5 2023, 14:15:10) [GCC 9.4.0]\n"
          ]
        }
      ]
    },
    {
      "cell_type": "code",
      "source": [],
      "metadata": {
        "id": "EW7oCcDMZ7sx"
      },
      "execution_count": null,
      "outputs": []
    },
    {
      "cell_type": "code",
      "execution_count": null,
      "metadata": {
        "id": "4q-QNG5z3Rvt"
      },
      "outputs": [],
      "source": [
        "def fib(n):\n",
        "    if n > 1:\n",
        "        return fib(n-1) + fib(n-2)\n",
        "    else:\n",
        "        return n"
      ]
    },
    {
      "cell_type": "code",
      "source": [
        "fib(12)"
      ],
      "metadata": {
        "colab": {
          "base_uri": "https://localhost:8080/"
        },
        "id": "b1DrTlXT48ym",
        "outputId": "4a987145-d3f0-4100-809a-e9a2d0b258c1"
      },
      "execution_count": null,
      "outputs": [
        {
          "output_type": "execute_result",
          "data": {
            "text/plain": [
              "144"
            ]
          },
          "metadata": {},
          "execution_count": 3
        }
      ]
    },
    {
      "cell_type": "code",
      "source": [
        "fib(24)"
      ],
      "metadata": {
        "colab": {
          "base_uri": "https://localhost:8080/"
        },
        "id": "TxTqVbxy4_gt",
        "outputId": "5fc2fa74-3d10-44a4-8baa-8451cbe0f858"
      },
      "execution_count": null,
      "outputs": [
        {
          "output_type": "execute_result",
          "data": {
            "text/plain": [
              "46368"
            ]
          },
          "metadata": {},
          "execution_count": 4
        }
      ]
    },
    {
      "cell_type": "code",
      "source": [
        "fib(36)"
      ],
      "metadata": {
        "colab": {
          "base_uri": "https://localhost:8080/"
        },
        "id": "pPnR5Y6M5CBN",
        "outputId": "a72b0dc8-0378-4827-c81b-86b8eaf0b58a"
      },
      "execution_count": null,
      "outputs": [
        {
          "output_type": "execute_result",
          "data": {
            "text/plain": [
              "14930352"
            ]
          },
          "metadata": {},
          "execution_count": 5
        }
      ]
    },
    {
      "cell_type": "code",
      "source": [
        "fib(36)"
      ],
      "metadata": {
        "colab": {
          "base_uri": "https://localhost:8080/"
        },
        "id": "Ob6RnmrlQ1r3",
        "outputId": "3f6c1788-30eb-4259-fe32-2b00b32373da"
      },
      "execution_count": null,
      "outputs": [
        {
          "output_type": "execute_result",
          "data": {
            "text/plain": [
              "14930352"
            ]
          },
          "metadata": {},
          "execution_count": 6
        }
      ]
    },
    {
      "cell_type": "code",
      "source": [
        "fib(35)"
      ],
      "metadata": {
        "colab": {
          "base_uri": "https://localhost:8080/"
        },
        "id": "Sy5GEyKdY1Ux",
        "outputId": "6ba29b2e-6f7f-4b94-b786-aeb496606c44"
      },
      "execution_count": null,
      "outputs": [
        {
          "output_type": "execute_result",
          "data": {
            "text/plain": [
              "9227465"
            ]
          },
          "metadata": {},
          "execution_count": 7
        }
      ]
    },
    {
      "cell_type": "code",
      "source": [
        "fib(42)"
      ],
      "metadata": {
        "colab": {
          "base_uri": "https://localhost:8080/"
        },
        "id": "wI24WCdH5FsG",
        "outputId": "769c2494-1389-4ef1-dc6f-241f6bacc760"
      },
      "execution_count": null,
      "outputs": [
        {
          "output_type": "execute_result",
          "data": {
            "text/plain": [
              "267914296"
            ]
          },
          "metadata": {},
          "execution_count": 11
        }
      ]
    },
    {
      "cell_type": "code",
      "source": [
        "import functools\n",
        "cfib = functools.cache(fib)"
      ],
      "metadata": {
        "id": "H_9wgNKWY8w4"
      },
      "execution_count": null,
      "outputs": []
    },
    {
      "cell_type": "code",
      "source": [
        "cfib(36)"
      ],
      "metadata": {
        "colab": {
          "base_uri": "https://localhost:8080/"
        },
        "id": "UgIn-w7zZG2I",
        "outputId": "0f3b2680-96be-454c-8585-278d067ce996"
      },
      "execution_count": null,
      "outputs": [
        {
          "output_type": "execute_result",
          "data": {
            "text/plain": [
              "14930352"
            ]
          },
          "metadata": {},
          "execution_count": 8
        }
      ]
    },
    {
      "cell_type": "code",
      "source": [
        "cfib(36)"
      ],
      "metadata": {
        "colab": {
          "base_uri": "https://localhost:8080/"
        },
        "id": "Mr5E7G_UZMLI",
        "outputId": "a68edabc-eba6-4488-d359-24d844824e1a"
      },
      "execution_count": null,
      "outputs": [
        {
          "output_type": "execute_result",
          "data": {
            "text/plain": [
              "14930352"
            ]
          },
          "metadata": {},
          "execution_count": 9
        }
      ]
    },
    {
      "cell_type": "code",
      "source": [
        "cfib(35)"
      ],
      "metadata": {
        "colab": {
          "base_uri": "https://localhost:8080/"
        },
        "id": "LGU9Ks7mZOfJ",
        "outputId": "2cc3a7cb-0992-4773-bc9f-370c76e8bfbf"
      },
      "execution_count": null,
      "outputs": [
        {
          "output_type": "execute_result",
          "data": {
            "text/plain": [
              "9227465"
            ]
          },
          "metadata": {},
          "execution_count": 11
        }
      ]
    },
    {
      "cell_type": "code",
      "source": [
        "# f를 활용하기 전에 hello를 한줄 출력해 주는 함수\n",
        "def print_hello(f):\n",
        "    def f2(x):\n",
        "        print('hello')\n",
        "        return f(x)\n",
        "    return f2\n",
        "\n",
        "@print_hello\n",
        "def double(x):\n",
        "    return x+x"
      ],
      "metadata": {
        "id": "tqn8-WudTtVU"
      },
      "execution_count": null,
      "outputs": []
    },
    {
      "cell_type": "code",
      "source": [
        "# f2 = print_hello(double)\n",
        "double(6)"
      ],
      "metadata": {
        "colab": {
          "base_uri": "https://localhost:8080/"
        },
        "id": "B6tFafzrUOoM",
        "outputId": "6dbde6c9-d3c1-429a-ef81-ac66073e6805"
      },
      "execution_count": null,
      "outputs": [
        {
          "output_type": "stream",
          "name": "stdout",
          "text": [
            "hello\n"
          ]
        },
        {
          "output_type": "execute_result",
          "data": {
            "text/plain": [
              "12"
            ]
          },
          "metadata": {},
          "execution_count": 33
        }
      ]
    },
    {
      "cell_type": "code",
      "source": [
        "from functools import *\n",
        "@cache\n",
        "def fibC(n):\n",
        "    if n > 1:\n",
        "        return fibC(n-1) + fibC(n-2)\n",
        "    else:\n",
        "        return n"
      ],
      "metadata": {
        "id": "Soo1zUejZUDA"
      },
      "execution_count": null,
      "outputs": []
    },
    {
      "cell_type": "code",
      "source": [
        "fibC(36)"
      ],
      "metadata": {
        "id": "0-uJ_iwKahih",
        "outputId": "0ba93876-0d09-40d0-bae4-84dd5ba3c0e9",
        "colab": {
          "base_uri": "https://localhost:8080/"
        }
      },
      "execution_count": null,
      "outputs": [
        {
          "output_type": "execute_result",
          "data": {
            "text/plain": [
              "14930352"
            ]
          },
          "metadata": {},
          "execution_count": 19
        }
      ]
    },
    {
      "cell_type": "code",
      "source": [
        "import functools\n",
        "def fibo(n):\n",
        "    if n > 1:\n",
        "        return cfibo(n-1) + cfibo(n-2)\n",
        "    else:\n",
        "        return n\n",
        "\n",
        "cfibo = functools.cache(fibo)"
      ],
      "metadata": {
        "id": "zNzKdp0BRwoc"
      },
      "execution_count": null,
      "outputs": []
    },
    {
      "cell_type": "code",
      "source": [
        "fibo(36)"
      ],
      "metadata": {
        "colab": {
          "base_uri": "https://localhost:8080/"
        },
        "id": "FiaXwJ1YSgdD",
        "outputId": "89fe63cc-7ccf-4aab-e92b-3ae9679ac967"
      },
      "execution_count": null,
      "outputs": [
        {
          "output_type": "execute_result",
          "data": {
            "text/plain": [
              "14930352"
            ]
          },
          "metadata": {},
          "execution_count": 43
        }
      ]
    },
    {
      "cell_type": "code",
      "source": [
        "def fibseq(n): # 0번째부터 n번째까지 피보나치 수열을 담은 리스트를 계산\n",
        "    fibs = [0, 1]\n",
        "    for i in range(2,n+1):\n",
        "        # fibs의 가장 끝의 두 수를 더한 수를 fibs의 맨 끝에 추가\n",
        "        fibs.append( fibs[-2] + fibs[-1] )\n",
        "    return fibs"
      ],
      "metadata": {
        "id": "HycHV2qO7Gnu"
      },
      "execution_count": null,
      "outputs": []
    },
    {
      "cell_type": "code",
      "source": [
        "fibseq(12)"
      ],
      "metadata": {
        "colab": {
          "base_uri": "https://localhost:8080/"
        },
        "id": "QvGnq76b7x1H",
        "outputId": "2e0648ab-cd08-4356-a19e-a3b450acba5a"
      },
      "execution_count": null,
      "outputs": [
        {
          "output_type": "execute_result",
          "data": {
            "text/plain": [
              "[0, 1, 1, 2, 3, 5, 8, 13, 21, 34, 55, 89, 144]"
            ]
          },
          "metadata": {},
          "execution_count": 14
        }
      ]
    },
    {
      "cell_type": "code",
      "source": [
        "def fib(n): # \\n번째 피보나치 수를 fibseq(n)의 맨 끝 수를 찾아오는 방식\n",
        "    return fibseq(n)[-1]"
      ],
      "metadata": {
        "id": "tnvRNH4g7y92"
      },
      "execution_count": null,
      "outputs": []
    },
    {
      "cell_type": "code",
      "source": [
        "fib(12)"
      ],
      "metadata": {
        "colab": {
          "base_uri": "https://localhost:8080/"
        },
        "id": "WFl-9w3O8Kbm",
        "outputId": "6beba1ca-c744-4634-ac3f-9f97f38b3db1"
      },
      "execution_count": null,
      "outputs": [
        {
          "output_type": "execute_result",
          "data": {
            "text/plain": [
              "144"
            ]
          },
          "metadata": {},
          "execution_count": 18
        }
      ]
    },
    {
      "cell_type": "code",
      "source": [
        "fib(24)"
      ],
      "metadata": {
        "colab": {
          "base_uri": "https://localhost:8080/"
        },
        "id": "YLys4GB78QZV",
        "outputId": "754632fe-ca32-4707-df8f-bc62d85bf33d"
      },
      "execution_count": null,
      "outputs": [
        {
          "output_type": "execute_result",
          "data": {
            "text/plain": [
              "46368"
            ]
          },
          "metadata": {},
          "execution_count": 19
        }
      ]
    },
    {
      "cell_type": "code",
      "source": [
        "fib(36)"
      ],
      "metadata": {
        "colab": {
          "base_uri": "https://localhost:8080/"
        },
        "id": "2yfESzdQ8SuH",
        "outputId": "2cdbc065-f5d4-479a-bec0-be90c8454d28"
      },
      "execution_count": null,
      "outputs": [
        {
          "output_type": "execute_result",
          "data": {
            "text/plain": [
              "14930352"
            ]
          },
          "metadata": {},
          "execution_count": 16
        }
      ]
    },
    {
      "cell_type": "code",
      "source": [
        "fib(42)"
      ],
      "metadata": {
        "colab": {
          "base_uri": "https://localhost:8080/"
        },
        "id": "Pm_0RM9d8Vft",
        "outputId": "e5e7fb2a-d490-4bac-96ab-79b43947d8eb"
      },
      "execution_count": null,
      "outputs": [
        {
          "output_type": "execute_result",
          "data": {
            "text/plain": [
              "267914296"
            ]
          },
          "metadata": {},
          "execution_count": 21
        }
      ]
    },
    {
      "cell_type": "code",
      "source": [
        "fib(48)"
      ],
      "metadata": {
        "colab": {
          "base_uri": "https://localhost:8080/"
        },
        "id": "PiYPyndQ8W3V",
        "outputId": "99e9f483-7e3d-44b1-fdb2-93165b50b3c6"
      },
      "execution_count": null,
      "outputs": [
        {
          "output_type": "execute_result",
          "data": {
            "text/plain": [
              "4807526976"
            ]
          },
          "metadata": {},
          "execution_count": 22
        }
      ]
    },
    {
      "cell_type": "code",
      "source": [
        "fib(60)"
      ],
      "metadata": {
        "colab": {
          "base_uri": "https://localhost:8080/"
        },
        "id": "ezeQjJaI8ai9",
        "outputId": "ce0c3eec-82e5-40fa-d3d3-89a8e179443b"
      },
      "execution_count": null,
      "outputs": [
        {
          "output_type": "execute_result",
          "data": {
            "text/plain": [
              "1548008755920"
            ]
          },
          "metadata": {},
          "execution_count": 23
        }
      ]
    },
    {
      "cell_type": "code",
      "source": [
        "def comb(n,r):\n",
        "    if r!=0 and r!=n:\n",
        "        return comb(n-1,r-1) + comb(n-1,r)\n",
        "    else: # r==0 or r==n\n",
        "        return 1"
      ],
      "metadata": {
        "id": "e3VT9lmm8bGl"
      },
      "execution_count": null,
      "outputs": []
    },
    {
      "cell_type": "code",
      "source": [
        "comb(10,4)"
      ],
      "metadata": {
        "colab": {
          "base_uri": "https://localhost:8080/"
        },
        "id": "YS8pB_jO-7L-",
        "outputId": "d311a352-41d5-4425-9603-d1d907853f3f"
      },
      "execution_count": null,
      "outputs": [
        {
          "output_type": "execute_result",
          "data": {
            "text/plain": [
              "210"
            ]
          },
          "metadata": {},
          "execution_count": 25
        }
      ]
    },
    {
      "cell_type": "code",
      "source": [
        "comb(20,9)"
      ],
      "metadata": {
        "colab": {
          "base_uri": "https://localhost:8080/"
        },
        "id": "Tm-1_jhe_Iet",
        "outputId": "c4063e43-25dc-4bb7-f092-1f6299af8ef7"
      },
      "execution_count": null,
      "outputs": [
        {
          "output_type": "execute_result",
          "data": {
            "text/plain": [
              "167960"
            ]
          },
          "metadata": {},
          "execution_count": 26
        }
      ]
    },
    {
      "cell_type": "code",
      "source": [
        "comb(25,12)"
      ],
      "metadata": {
        "colab": {
          "base_uri": "https://localhost:8080/"
        },
        "id": "jxAXlFzU_Rsu",
        "outputId": "a1967274-6c21-4ae5-8641-a7c66bdcaa06"
      },
      "execution_count": null,
      "outputs": [
        {
          "output_type": "execute_result",
          "data": {
            "text/plain": [
              "5200300"
            ]
          },
          "metadata": {},
          "execution_count": 28
        }
      ]
    },
    {
      "cell_type": "code",
      "source": [
        "comb(27,13)"
      ],
      "metadata": {
        "colab": {
          "base_uri": "https://localhost:8080/"
        },
        "id": "KixK_oCs_K1m",
        "outputId": "b94c08d2-2049-4c25-c61f-5766210150fb"
      },
      "execution_count": null,
      "outputs": [
        {
          "output_type": "execute_result",
          "data": {
            "text/plain": [
              "20058300"
            ]
          },
          "metadata": {},
          "execution_count": 29
        }
      ]
    },
    {
      "cell_type": "code",
      "source": [
        "comb(29,14)"
      ],
      "metadata": {
        "colab": {
          "base_uri": "https://localhost:8080/"
        },
        "id": "EQmbLLWk_YfF",
        "outputId": "4e357381-7885-45f8-a0b2-e4c121f43659"
      },
      "execution_count": null,
      "outputs": [
        {
          "output_type": "execute_result",
          "data": {
            "text/plain": [
              "77558760"
            ]
          },
          "metadata": {},
          "execution_count": 30
        }
      ]
    },
    {
      "cell_type": "code",
      "source": [
        "r0 = []\n",
        "for _ in range(4+1):\n",
        "    r0.append(1)\n",
        "\n",
        "r0"
      ],
      "metadata": {
        "colab": {
          "base_uri": "https://localhost:8080/"
        },
        "id": "Z_fTnV7TBQ2m",
        "outputId": "1a503798-2c07-4428-919b-1d5ed555d712"
      },
      "execution_count": null,
      "outputs": [
        {
          "output_type": "execute_result",
          "data": {
            "text/plain": [
              "[1, 1, 1, 1, 1]"
            ]
          },
          "metadata": {},
          "execution_count": 31
        }
      ]
    },
    {
      "cell_type": "code",
      "source": [
        "# { (x,y) | x∈{1,2}, y∈{a,b} }\n",
        "[ (x,y) for x in [1,2] for y in ['a','b'] ] # list comprehension"
      ],
      "metadata": {
        "colab": {
          "base_uri": "https://localhost:8080/"
        },
        "id": "iAsflZi7BfYO",
        "outputId": "f73623a7-b359-4760-c46e-71d4d65bd1f0"
      },
      "execution_count": null,
      "outputs": [
        {
          "output_type": "execute_result",
          "data": {
            "text/plain": [
              "[(1, 'a'), (1, 'b'), (2, 'a'), (2, 'b')]"
            ]
          },
          "metadata": {},
          "execution_count": 33
        }
      ]
    },
    {
      "cell_type": "code",
      "source": [
        "row0 = [ 1 for _ in range(4+1) ]"
      ],
      "metadata": {
        "id": "N7lz_tJjCDyf"
      },
      "execution_count": null,
      "outputs": []
    },
    {
      "cell_type": "code",
      "source": [
        "[row0] + [ [1] for _ in range(2) ]"
      ],
      "metadata": {
        "colab": {
          "base_uri": "https://localhost:8080/"
        },
        "id": "6v7VqwO1Cetn",
        "outputId": "0685ff2c-2367-4af8-8fd9-0a347a348039"
      },
      "execution_count": null,
      "outputs": [
        {
          "output_type": "execute_result",
          "data": {
            "text/plain": [
              "[[1, 1, 1, 1, 1], [1], [1]]"
            ]
          },
          "metadata": {},
          "execution_count": 37
        }
      ]
    },
    {
      "cell_type": "code",
      "source": [
        "[[1, 1, 1, 1, 1],\n",
        " [1],\n",
        " [1]\n",
        "]"
      ],
      "metadata": {
        "id": "QpTwvVYXA7R_"
      },
      "execution_count": null,
      "outputs": []
    },
    {
      "cell_type": "code",
      "source": [
        "def comb_pascal(n,r):\n",
        "    row0 = [1 for _ in range(r+1)]\n",
        "    matrix = [row0] + [[1] for _ in range(n-r)]\n",
        "    for i in range(1, n-r+1):\n",
        "        for j in range(1, r+1):\n",
        "            newvalue = matrix[i][j-1] + matrix[i-1][j]\n",
        "            matrix[i].append(newvalue)\n",
        "    return matrix[n-r][r]"
      ],
      "metadata": {
        "id": "RxZFpT3MC-jm"
      },
      "execution_count": null,
      "outputs": []
    },
    {
      "cell_type": "code",
      "source": [
        "comb_pascal(29,14)"
      ],
      "metadata": {
        "colab": {
          "base_uri": "https://localhost:8080/"
        },
        "id": "ipFstPAIDCed",
        "outputId": "b55c4e32-604b-4b4c-c8b8-7f00aafa4822"
      },
      "execution_count": null,
      "outputs": [
        {
          "output_type": "execute_result",
          "data": {
            "text/plain": [
              "77558760"
            ]
          },
          "metadata": {},
          "execution_count": 39
        }
      ]
    },
    {
      "cell_type": "code",
      "source": [
        "def minsteps(n):\n",
        "    if n > 1:\n",
        "        steps = minsteps(n-1)\n",
        "        if n % 2 == 0:\n",
        "            steps = min(steps, minsteps(n//2))\n",
        "        if n % 3 == 0:\n",
        "            steps = min(steps, minsteps(n//3))\n",
        "        return 1 + steps\n",
        "    else:\n",
        "        return 0"
      ],
      "metadata": {
        "id": "_ByP9CmrF9DX"
      },
      "execution_count": null,
      "outputs": []
    },
    {
      "cell_type": "code",
      "source": [
        "minsteps(513)"
      ],
      "metadata": {
        "colab": {
          "base_uri": "https://localhost:8080/"
        },
        "id": "hngiFxKTF9uP",
        "outputId": "df33bed9-c9e5-4299-9d24-d42dd69c2e3f"
      },
      "execution_count": null,
      "outputs": [
        {
          "output_type": "execute_result",
          "data": {
            "text/plain": [
              "7"
            ]
          },
          "metadata": {},
          "execution_count": 47
        }
      ]
    },
    {
      "cell_type": "code",
      "source": [
        "def minsteps(n):\n",
        "    memo = [0 for _ in range(n+1)] # 0을 메모지의 빈칸(즉 아직 계산 안되었다고 생각, 맨 앞에 index 0,1 제외)\n",
        "    def f(n):\n",
        "        if n > 1:\n",
        "            if memo[n] == 0: # 만약에 메모지에 없다면 계산해야됨\n",
        "                steps = f(n-1)\n",
        "                if n % 2 == 0:\n",
        "                    steps = min(steps, f(n//2))\n",
        "                if n % 3 == 0:\n",
        "                    steps = min(steps, f(n//3))\n",
        "                memo[n] = 1 + steps # 여기서 메모에 추가 해둬야\n",
        "            return memo[n]\n",
        "        else:\n",
        "            return 0\n",
        "    #\n",
        "    return f(n)"
      ],
      "metadata": {
        "id": "z38sY75lH1V3"
      },
      "execution_count": null,
      "outputs": []
    },
    {
      "cell_type": "code",
      "source": [
        "minsteps(513)"
      ],
      "metadata": {
        "colab": {
          "base_uri": "https://localhost:8080/"
        },
        "id": "vkqJzpxfJtyv",
        "outputId": "00ebe42b-5883-4631-b749-4e2e6a0c15c4"
      },
      "execution_count": null,
      "outputs": [
        {
          "output_type": "execute_result",
          "data": {
            "text/plain": [
              "7"
            ]
          },
          "metadata": {},
          "execution_count": 50
        }
      ]
    },
    {
      "cell_type": "markdown",
      "source": [
        "위의 메모해두기 방식을 리스트가 아닌 딕셔너리에 저장하는 방식으로 바꿔보자"
      ],
      "metadata": {
        "id": "0gYr-0Fr-ogF"
      }
    },
    {
      "cell_type": "code",
      "source": [
        "# 리스트 같은 \"시퀀스\"는 0부터 n-1까지 범위의 정수에 값을 대응시키는 구조\n",
        "l5 = [10,11,12,13,14,15] # index 0은 10에, 1은 11에, 2는 12에, ... 대응\n",
        "\n",
        "print(l5[2])\n",
        "print(l5[4])"
      ],
      "metadata": {
        "colab": {
          "base_uri": "https://localhost:8080/"
        },
        "id": "DxsN651n-nKW",
        "outputId": "ef29a361-e266-4082-90c5-13a573292fea"
      },
      "execution_count": null,
      "outputs": [
        {
          "output_type": "stream",
          "name": "stdout",
          "text": [
            "12\n",
            "14\n"
          ]
        }
      ]
    },
    {
      "cell_type": "code",
      "source": [
        "d5 = {0:10, 1:11, 2:12, 3:13, 4:14, 5:15}\n",
        "type(d5)\n",
        "print(d5[2])\n",
        "print(d5[4])"
      ],
      "metadata": {
        "colab": {
          "base_uri": "https://localhost:8080/"
        },
        "id": "0FKB0doI_I1c",
        "outputId": "3b162f96-8607-4d0d-89e5-f99a8f61aa96"
      },
      "execution_count": null,
      "outputs": [
        {
          "output_type": "stream",
          "name": "stdout",
          "text": [
            "12\n",
            "14\n"
          ]
        }
      ]
    },
    {
      "cell_type": "code",
      "source": [
        "d2 = { 2:12, 4:14 }\n",
        "print(d2)\n",
        "d2[3] = 13 # 기존에 없던 키에 추가\n",
        "d2[2] = 22 # 기존에 잆는 키에 대응되는 값 변경 추가\n",
        "print(d2)"
      ],
      "metadata": {
        "colab": {
          "base_uri": "https://localhost:8080/"
        },
        "id": "73wtj86FBwqE",
        "outputId": "4c37097b-fa75-4a0e-9872-a7941eded075"
      },
      "execution_count": null,
      "outputs": [
        {
          "output_type": "stream",
          "name": "stdout",
          "text": [
            "{2: 12, 4: 14}\n",
            "{2: 22, 4: 14, 3: 13}\n"
          ]
        }
      ]
    },
    {
      "cell_type": "code",
      "source": [
        "\n",
        "len(d2)\n",
        "print(d2[2])\n",
        "print(d2[4])\n",
        "# print(d2[3]) # error 없으니까"
      ],
      "metadata": {
        "colab": {
          "base_uri": "https://localhost:8080/"
        },
        "id": "yI3Ji7fL_0ud",
        "outputId": "060c91fd-d064-4ff4-e684-dce684b1e18d"
      },
      "execution_count": null,
      "outputs": [
        {
          "output_type": "stream",
          "name": "stdout",
          "text": [
            "12\n",
            "14\n"
          ]
        }
      ]
    },
    {
      "cell_type": "code",
      "source": [
        "print( d2.get(2) )\n",
        "print( d2.get(4) )\n",
        "print( d2.get(3) ) # key가 없을때는 None"
      ],
      "metadata": {
        "colab": {
          "base_uri": "https://localhost:8080/"
        },
        "id": "6kR8mmAQA1ZF",
        "outputId": "bb22235f-4746-408c-e930-c9b79e198d2c"
      },
      "execution_count": null,
      "outputs": [
        {
          "output_type": "stream",
          "name": "stdout",
          "text": [
            "12\n",
            "14\n",
            "None\n"
          ]
        }
      ]
    },
    {
      "cell_type": "code",
      "source": [
        "d0 = {}\n",
        "type(d0)"
      ],
      "metadata": {
        "colab": {
          "base_uri": "https://localhost:8080/"
        },
        "id": "WLP4qR9q_Xpm",
        "outputId": "f4f6706c-8591-49fa-915e-8f7915b75c52"
      },
      "execution_count": null,
      "outputs": [
        {
          "output_type": "execute_result",
          "data": {
            "text/plain": [
              "dict"
            ]
          },
          "metadata": {},
          "execution_count": 7
        }
      ]
    },
    {
      "cell_type": "code",
      "source": [
        "# 정수가 아닌 key도 사용 가능\n",
        "\n",
        "dd = { \"tom\": 19, \"ben\": 22, \"mary\": 17 }\n",
        "print( dd[\"tom\"]  )\n",
        "print( dd[\"mary\"] )"
      ],
      "metadata": {
        "colab": {
          "base_uri": "https://localhost:8080/"
        },
        "id": "3DH51azWAO81",
        "outputId": "c8ffd609-238f-49ef-9bc4-611e3f96b3e7"
      },
      "execution_count": null,
      "outputs": [
        {
          "output_type": "stream",
          "name": "stdout",
          "text": [
            "19\n",
            "17\n"
          ]
        }
      ]
    },
    {
      "cell_type": "code",
      "source": [
        "def minsteps(n):\n",
        "    memo = {0:0, 1:1}\n",
        "    def f(n):\n",
        "        if n > 1:\n",
        "            if memo.get(n) == None: # 만약에 메모지에 없다면 계산해야됨\n",
        "                steps = f(n-1)\n",
        "                if n % 2 == 0:\n",
        "                    steps = min(steps, f(n//2))\n",
        "                if n % 3 == 0:\n",
        "                    steps = min(steps, f(n//3))\n",
        "                memo[n] = 1 + steps # 여기서 메모에 추가 해둬야\n",
        "            return memo[n]\n",
        "        else:\n",
        "            return 0\n",
        "    #\n",
        "    return f(n)"
      ],
      "metadata": {
        "id": "_zyXjZAq_iLE"
      },
      "execution_count": null,
      "outputs": []
    },
    {
      "cell_type": "code",
      "source": [
        "minsteps(513)"
      ],
      "metadata": {
        "colab": {
          "base_uri": "https://localhost:8080/"
        },
        "id": "YMpzQ_RkCS6l",
        "outputId": "fdaf88af-d0ab-4285-bf74-97a34b35d9a1"
      },
      "execution_count": null,
      "outputs": [
        {
          "output_type": "execute_result",
          "data": {
            "text/plain": [
              "7"
            ]
          },
          "metadata": {},
          "execution_count": 27
        }
      ]
    },
    {
      "cell_type": "code",
      "source": [],
      "metadata": {
        "id": "3aa0SDGRDVcV"
      },
      "execution_count": null,
      "outputs": []
    },
    {
      "cell_type": "code",
      "source": [],
      "metadata": {
        "id": "syWYxznWDVZ_"
      },
      "execution_count": null,
      "outputs": []
    },
    {
      "cell_type": "markdown",
      "source": [
        "* 함수: 한번 값을 내보나면(`return`) 하면 끝내고 함수를 빠져나감\n",
        "\n",
        "* 코루틴(제너레이터 함수): 여러 번 값을 내보냄(`yield`). 내보내고 난 다음에 그 자리에서 이어서 실행 (내보낸 다음에 즉시 빠져나가지 않음)\n",
        "\n",
        "파이썬에서 코루틴의 실행 결과는 제너레이터\n",
        "\n",
        "ㅍ\n",
        "\n",
        "제너레이터: 앞으로 할 일의 계획 (아직은 실제로는 실행되지 않음)"
      ],
      "metadata": {
        "id": "xCE54YH2C1eN"
      }
    },
    {
      "cell_type": "code",
      "source": [
        "# 이게 하는 일은 range랑 똑같음\n",
        "def co(n): # 0부터 n미만 (즉 n-1까지) 수를 차례대로 내보냄\n",
        "    for i in range(n):\n",
        "        yield i # 내보낸 다음에도 끝나지 않고 다음 반복을 계속함"
      ],
      "metadata": {
        "id": "DWd_0v_ICvtN"
      },
      "execution_count": null,
      "outputs": []
    },
    {
      "cell_type": "code",
      "source": [
        "gen10 = co(10)\n",
        "\n",
        "gen10"
      ],
      "metadata": {
        "colab": {
          "base_uri": "https://localhost:8080/"
        },
        "id": "LuXkpZ7QCUfU",
        "outputId": "916c67f2-3668-4ea2-950e-dffaf6f67d77"
      },
      "execution_count": null,
      "outputs": [
        {
          "output_type": "execute_result",
          "data": {
            "text/plain": [
              "<generator object co at 0x7fd914c16eb0>"
            ]
          },
          "metadata": {},
          "execution_count": 40
        }
      ]
    },
    {
      "cell_type": "code",
      "source": [
        "print( list(gen10) ) # 이미 10개를 다 여기서 소모했음\n",
        "print( list(gen10) ) # 더 이상 만들 거 없음"
      ],
      "metadata": {
        "colab": {
          "base_uri": "https://localhost:8080/"
        },
        "id": "0QjjBJPkDy9s",
        "outputId": "83359282-cd56-4516-be92-5cac9f82969b"
      },
      "execution_count": null,
      "outputs": [
        {
          "output_type": "stream",
          "name": "stdout",
          "text": [
            "[0, 1, 2, 3, 4, 5, 6, 7, 8, 9]\n",
            "[]\n"
          ]
        }
      ]
    },
    {
      "cell_type": "code",
      "source": [
        "def squareslist(n): # 리스트 그냥 만들어\n",
        "    return [i**2 for i in range(1,n+1)]\n",
        "\n",
        "def squares(n): # 1부터 n까지 제곱수를 만들어내는 코루틴\n",
        "    for i in range(1,n+1):\n",
        "        yield i**2\n"
      ],
      "metadata": {
        "id": "Z1rmRtV2EVT8"
      },
      "execution_count": null,
      "outputs": []
    },
    {
      "cell_type": "code",
      "source": [
        "gen10 = squares(10)\n",
        "\n",
        "print( next(gen10) )\n",
        "print( next(gen10) )\n",
        "print( next(gen10) )\n",
        "print( next(gen10) )\n",
        "print( next(gen10) )\n",
        "\n",
        "print(\"제너레이터는 이미 빼낸 내용으로는 다시 돌아가지 않음\")\n",
        "for i in gen10:\n",
        "    print(i)"
      ],
      "metadata": {
        "colab": {
          "base_uri": "https://localhost:8080/"
        },
        "id": "CiXS8vr5FdID",
        "outputId": "d85851a5-0a91-49a4-9cfd-a32eb4f0f2b4"
      },
      "execution_count": null,
      "outputs": [
        {
          "output_type": "stream",
          "name": "stdout",
          "text": [
            "1\n",
            "4\n",
            "9\n",
            "16\n",
            "25\n",
            "제너레이터는 이미 빼낸 내용으로는 다시 돌아가지 않음\n",
            "36\n",
            "49\n",
            "64\n",
            "81\n",
            "100\n"
          ]
        }
      ]
    },
    {
      "cell_type": "code",
      "source": [
        "squareslist(10)"
      ],
      "metadata": {
        "colab": {
          "base_uri": "https://localhost:8080/"
        },
        "id": "ZFPo-FpCF7es",
        "outputId": "6077abd0-9c1f-4d06-974f-fe56acc70acf"
      },
      "execution_count": null,
      "outputs": [
        {
          "output_type": "execute_result",
          "data": {
            "text/plain": [
              "[1, 4, 9, 16, 25, 36, 49, 64, 81, 100]"
            ]
          },
          "metadata": {},
          "execution_count": 47
        }
      ]
    },
    {
      "cell_type": "code",
      "source": [
        "list( squares(10) )"
      ],
      "metadata": {
        "colab": {
          "base_uri": "https://localhost:8080/"
        },
        "id": "T4xLMw8uFma8",
        "outputId": "9b63cab1-5027-48b2-8268-ede3b8bf8dd8"
      },
      "execution_count": null,
      "outputs": [
        {
          "output_type": "execute_result",
          "data": {
            "text/plain": [
              "[1, 4, 9, 16, 25, 36, 49, 64, 81, 100]"
            ]
          },
          "metadata": {},
          "execution_count": 44
        }
      ]
    },
    {
      "cell_type": "code",
      "source": [
        "l3 = [1,2,3]\n",
        "# dir(l3) 에 __iter__ 가 나타난다\n",
        "it3 = l3.__iter__()\n",
        "\n",
        "print( it3.__next__() )\n",
        "print( it3.__next__() )\n",
        "try:\n",
        "    print( it3.__next__() )\n",
        "    print(\"여기서는 에러 안남\")\n",
        "except StopIteration:\n",
        "    print(\"에러가 난다면 여기서 처리\")\n",
        "\n",
        "try: # 에러가 날 수도 있는 코드를 시도\n",
        "    print( it3.__next__() ) # 다음에 원소가 없고 끝이므로 StopIteration 이라는 에러\n",
        "    print(\"에러 안났는데?\")\n",
        "except StopIteration: # StopIteration 에러가 발생하면 여기에서 프로그램 계속\n",
        "    print(\"더 이상 가져올 원소가 없습니다!\")"
      ],
      "metadata": {
        "id": "Ibf4fA3yGY-u",
        "colab": {
          "base_uri": "https://localhost:8080/"
        },
        "outputId": "5c33640b-11e3-4234-e91d-c30fbd7c90a3"
      },
      "execution_count": null,
      "outputs": [
        {
          "output_type": "stream",
          "name": "stdout",
          "text": [
            "1\n",
            "2\n",
            "3\n",
            "여기서는 에러 안남\n",
            "더 이상 가져올 원소가 없습니다!\n"
          ]
        }
      ]
    },
    {
      "cell_type": "code",
      "source": [
        "dir(l3)\n",
        "\n",
        "len(l3)"
      ],
      "metadata": {
        "colab": {
          "base_uri": "https://localhost:8080/"
        },
        "id": "fWPw61edEqI-",
        "outputId": "a514ec9d-a3b8-4d64-8002-07284ce0de84"
      },
      "execution_count": null,
      "outputs": [
        {
          "output_type": "execute_result",
          "data": {
            "text/plain": [
              "3"
            ]
          },
          "metadata": {},
          "execution_count": 25
        }
      ]
    },
    {
      "cell_type": "code",
      "source": [
        "# 이터레티러를 활용해서 for 문을 while 문으로 바꿔보기\n",
        "print(\"=== for loop ===\")\n",
        "for i in l3:\n",
        "    print(i, end=\" \")\n",
        "\n",
        "print(\"\\n=== while loop ===\")\n",
        "it3 = iter(l3)\n",
        "while True:\n",
        "    try:\n",
        "        print( next(it3), end=\" \")\n",
        "    except StopIteration:\n",
        "        break"
      ],
      "metadata": {
        "colab": {
          "base_uri": "https://localhost:8080/"
        },
        "id": "5LYWroB3A3fD",
        "outputId": "8008d672-c748-4b26-af8d-035af7db0ae9"
      },
      "execution_count": null,
      "outputs": [
        {
          "output_type": "stream",
          "name": "stdout",
          "text": [
            "=== for loop ===\n",
            "1 2 3 \n",
            "=== while loop ===\n",
            "1 2 3 "
          ]
        }
      ]
    },
    {
      "cell_type": "code",
      "source": [
        "l9 = [10,20,30,40,50,60,70,80,90]\n",
        "\n",
        "it9 = iter(l9)\n",
        "\n",
        "for _ in range(5):\n",
        "    print(next(it9))\n",
        "\n",
        "# 이터레이터는 값을 불러내면 다시 뒤로 돌아가지 않는다\n",
        "print()\n",
        "for _ in range(4):\n",
        "    print(next(it9))\n"
      ],
      "metadata": {
        "colab": {
          "base_uri": "https://localhost:8080/"
        },
        "id": "qfO-q9ncDAYD",
        "outputId": "74a281a4-ba70-40e1-e14f-482f9f44e51a"
      },
      "execution_count": null,
      "outputs": [
        {
          "output_type": "stream",
          "name": "stdout",
          "text": [
            "10\n",
            "20\n",
            "30\n",
            "40\n",
            "50\n",
            "\n",
            "60\n",
            "70\n",
            "80\n",
            "90\n"
          ]
        }
      ]
    },
    {
      "cell_type": "code",
      "source": [
        "def square10():\n",
        "    for i in range(1,10):\n",
        "        yield i*i"
      ],
      "metadata": {
        "id": "o_6wDChEGnPz"
      },
      "execution_count": null,
      "outputs": []
    },
    {
      "cell_type": "code",
      "source": [
        "gen = ( i*i for i in range(1,10) )\n",
        "# gen = square10()\n",
        "\n",
        "list(gen)"
      ],
      "metadata": {
        "colab": {
          "base_uri": "https://localhost:8080/"
        },
        "id": "JME_vmhjFKka",
        "outputId": "9a9df4fa-d3e4-483c-abc7-71f8808aee9f"
      },
      "execution_count": null,
      "outputs": [
        {
          "output_type": "execute_result",
          "data": {
            "text/plain": [
              "[1, 4, 9, 16, 25, 36, 49, 64, 81]"
            ]
          },
          "metadata": {},
          "execution_count": 51
        }
      ]
    },
    {
      "cell_type": "code",
      "source": [
        "seasons = ['봄', '여름', '가을', '겨울']\n",
        "\n",
        "list( enumerate(seasons) )"
      ],
      "metadata": {
        "colab": {
          "base_uri": "https://localhost:8080/"
        },
        "id": "VTsu7QXsGHEs",
        "outputId": "f429c971-0291-4a15-dfd6-bf01db6a69e1"
      },
      "execution_count": null,
      "outputs": [
        {
          "output_type": "execute_result",
          "data": {
            "text/plain": [
              "[(0, '봄'), (1, '여름'), (2, '가을'), (3, '겨울')]"
            ]
          },
          "metadata": {},
          "execution_count": 54
        }
      ]
    },
    {
      "cell_type": "code",
      "source": [
        "list( zip( ( i*i for i in range(1,10) ), ['a','b','c'] ) )"
      ],
      "metadata": {
        "colab": {
          "base_uri": "https://localhost:8080/"
        },
        "id": "rh0vdVE9HXPj",
        "outputId": "83458296-4590-4db9-ecb2-ebb9508dd116"
      },
      "execution_count": null,
      "outputs": [
        {
          "output_type": "execute_result",
          "data": {
            "text/plain": [
              "[(1, 'a'), (4, 'b'), (9, 'c')]"
            ]
          },
          "metadata": {},
          "execution_count": 59
        }
      ]
    },
    {
      "cell_type": "code",
      "source": [
        "def nats():\n",
        "    n = 0\n",
        "    while True:\n",
        "        yield n\n",
        "        n += 1"
      ],
      "metadata": {
        "id": "6gelmUnfIb_r"
      },
      "execution_count": null,
      "outputs": []
    },
    {
      "cell_type": "code",
      "source": [
        "def myenum(xs):\n",
        "    return zip( nats(), xs )"
      ],
      "metadata": {
        "id": "JC28ZppVHkND"
      },
      "execution_count": null,
      "outputs": []
    },
    {
      "cell_type": "code",
      "source": [
        "list( myenum(seasons) )"
      ],
      "metadata": {
        "colab": {
          "base_uri": "https://localhost:8080/"
        },
        "id": "TPrmg7QUIqmD",
        "outputId": "142996d3-09bf-4035-8a8e-2de8bc2f1b0d"
      },
      "execution_count": null,
      "outputs": [
        {
          "output_type": "execute_result",
          "data": {
            "text/plain": [
              "[(0, '봄'), (1, '여름'), (2, '가을'), (3, '겨울')]"
            ]
          },
          "metadata": {},
          "execution_count": 67
        }
      ]
    },
    {
      "cell_type": "code",
      "source": [
        "def ones():\n",
        "    while True:\n",
        "        yield 1"
      ],
      "metadata": {
        "id": "B4RiPWWZIsRL"
      },
      "execution_count": null,
      "outputs": []
    },
    {
      "cell_type": "code",
      "source": [
        "def add(g1, g2): # 무한 다항식 g1과 g2의 합\n",
        "    for a,b in zip(g1, g2):\n",
        "        yield a+b"
      ],
      "metadata": {
        "id": "e2PplyneQjcm"
      },
      "execution_count": null,
      "outputs": []
    },
    {
      "cell_type": "code",
      "source": [
        "g1 = ones() # 1 + x + x^2 + x^3 + ...\n",
        "g2 = ones() # 1 + x + x^2 + x^3 + ...\n",
        "\n",
        "g3 = add(g1, g2)\n",
        "\n",
        "[ next(g3) for _ in range(10) ]"
      ],
      "metadata": {
        "colab": {
          "base_uri": "https://localhost:8080/"
        },
        "id": "sVkQYyFKQxJs",
        "outputId": "6b77e5b2-2448-467d-c1eb-da9801262c59"
      },
      "execution_count": null,
      "outputs": [
        {
          "output_type": "execute_result",
          "data": {
            "text/plain": [
              "[2, 2, 2, 2, 2, 2, 2, 2, 2, 2]"
            ]
          },
          "metadata": {},
          "execution_count": 5
        }
      ]
    },
    {
      "cell_type": "code",
      "source": [],
      "metadata": {
        "id": "-nLNqNFiRBq9"
      },
      "execution_count": null,
      "outputs": []
    }
  ]
}