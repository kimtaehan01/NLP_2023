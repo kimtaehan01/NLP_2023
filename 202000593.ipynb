{
  "nbformat": 4,
  "nbformat_minor": 0,
  "metadata": {
    "colab": {
      "provenance": [],
      "include_colab_link": true
    },
    "kernelspec": {
      "name": "python3",
      "display_name": "Python 3"
    },
    "language_info": {
      "name": "python"
    }
  },
  "cells": [
    {
      "cell_type": "markdown",
      "metadata": {
        "id": "view-in-github",
        "colab_type": "text"
      },
      "source": [
        "<a href=\"https://colab.research.google.com/github/kimtaehan01/NLP_2023/blob/main/202000593.ipynb\" target=\"_parent\"><img src=\"https://colab.research.google.com/assets/colab-badge.svg\" alt=\"Open In Colab\"/></a>"
      ]
    },
    {
      "cell_type": "markdown",
      "source": [
        "# HW1 (HNU CE 파이썬프로그래밍 2023년 1학기)\n",
        "* 분반: 01\n",
        "* 이름: 김태한\n",
        "* 학번: 20200593\n",
        "\n",
        "\n",
        "과제에서 작성한 각 함수에 대해서는 함수가 올바르게 동작한다는 것을 보여주는 적절한 개수의 테스트 실행을 반드시 같이 작성해서 제출해야 한다. 테스트가 적절하지 않거나 부족하면 올바른 코드라도 감점되거나 전혀 점수를 받지 못할 수도 있음을 유의!\n",
        "\n",
        "코드를 작성하다가 추가 보조 함수를 작성하는 것이 코드를 정리하기 좋다고 생각되면 추가로 보조 함수를 작성해도 좋다. 문제에서 요구하는 함수가 아닌 보조함수들에 대해서는 테스트 실행을 포함하는 것이 의무(채점사항)는 아니지만 그래도 있으면 더 좋다."
      ],
      "metadata": {
        "id": "mG3OFpK5K5Dm"
      }
    },
    {
      "cell_type": "markdown",
      "source": [
        "----\n",
        "\n",
        "`m` 진법의 수를 나타내는 문자열 `str`을\n",
        "`n` 진법의 수를 나타내는 문자열로 변환하는\n",
        "함수 `convert_base(str, m, n, p)`를 작성하는 과제이다.\n",
        "마지막 파라메터 `p`는 최대 소수점 몇째 자리까지 계산할지 정해주는 용도이다.\n",
        "`m`과 `n`의 범위 즉 진법은 2진법부터 36진법까지로 하자.\n",
        "36진법의 경우는 0부터 9까지 열 개의 digit과 A부터 Z까지 알파벳 26글자를 모두 활용하게 된다.\n",
        "\n",
        "정수만을 변환하는 경우는 파이썬의 붙박이 함수 `int`를 활용하거나,\n",
        "int를 활용하지 않더라도 아니더라도 chatGPT에 물어보면 너무 쉽게 된다.\n",
        "그래서 이 과제는 소수점이 있는 경우까지 포함하는 수를 진법 변환하는 내용이다.\n",
        "물론 이것도 chatGPT에게 물어보면 또 작성을 못해주는 건 아니라 아래와 같은\n",
        "구현상의 추가 제약조건을 따라 과제를 진행하기로 한다.\n",
        "\n",
        "바로 유리수 계산을 통해서 하자는 것이다. 보통 chatGPT에게\n",
        "그냥 물어보면 해주는 방식은 대략 정수 부분을 변환한 다음,\n",
        "소수점 이하 부분은\n",
        "- m진수 소수 형태의 문자열을 컴퓨터의 실수 표현(즉, 이진수)로 변환\n",
        "- 컴퓨터의 실수 표현(즉, 이진수)를 n진수 소수 형태의 문자열로 변환\n",
        "\n",
        "이렇게 컴퓨터의 이진수 실수 표현 단계를 중간에 거쳐간다.\n",
        "\n",
        "이렇게 하는 게 사실 일반적으로 더 간편하고 빠른 방법이긴 하지만\n",
        "- m진수에서 이진수 실수로 갈 때 오차 발생 가능\n",
        "- 이진수에서 n진수 실수로 갈 때 오차 발생 가능\n",
        "\n",
        "이렇게 오차가 두 번씩 발생하므로\n",
        "m진법에서 n진법으로 한번에 변환하면 한번만 발생할 오차가\n",
        "불필요하게 두 번 발생되며 오차가 누적될 가능성이 있다는 것이 단점이다.\n",
        "(특히, m과 n 모두 2가 아닌 서로 다른 소인수를 포함하는 경우)\n",
        "\n",
        "그래서 좀 느리고 불편하지만 (그리고 일반적인 방법이 아니라 아무래도\n",
        "chatGPT에게 물어보기도 더 까다롭고 ... 열심히 물어보면 뭐 대답할 수\n",
        "있게 만들 수 있을지도 모르는데 뭐 그건 그거 나름대로 상당한 노력이라)\n",
        "컴퓨터 이진수가 아닌 오차가 없는 유리수 표현(즉, 분수)과 연산을 통해\n",
        "소수점 이하의 m진법에서 n진법 변환을 수행하는 것이 이번 과제의 핵심이다."
      ],
      "metadata": {
        "id": "xSCGpbAdLHE3"
      }
    },
    {
      "cell_type": "markdown",
      "source": [
        "----\n",
        "분수 $\\frac{x}{y}$를 이 과제의 파이썬 코드에서는 `(x,y)` 형태의 순서쌍으로 표현한다.\n",
        "이 때 `x`와 `y`는 정수이다.\n",
        "\n",
        "두 분수 `q1`과 `q2`의 크기를 비교하는 함수들을 다음과 같이 작성할 수 있다."
      ],
      "metadata": {
        "id": "jl84GWgz2HPW"
      }
    },
    {
      "cell_type": "code",
      "source": [
        "# q1 < q2\n",
        "def ltFrac(q1, q2):\n",
        "  x1, y1 = q1\n",
        "  x2, y2 = q2\n",
        "  return x1*y2 < x2*y1\n",
        "\n",
        "# q1 > q2\n",
        "def gtFrac(q1, q2):\n",
        "  x1, y1 = q1\n",
        "  x2, y2 = q2\n",
        "  return x1*y2 > x2*y1\n",
        "\n",
        "# q1 <= q2\n",
        "def leFrac(q1, q2):\n",
        "  x1, y1 = q1\n",
        "  x2, y2 = q2\n",
        "  return x1*y2 <= x2*y1\n",
        "\n",
        "# q1 >= q2\n",
        "def geFrac(q1, q2):\n",
        "  x1, y1 = q1\n",
        "  x2, y2 = q2\n",
        "  return x1*y2 >= x2*y1\n",
        "\n",
        "# q1 == q2\n",
        "def eqFrac(q1, q2):\n",
        "  x1, y1 = q1\n",
        "  x2, y2 = q2\n",
        "  return x1*y2 == x2*y1\n"
      ],
      "metadata": {
        "id": "OnID_sJZmetx"
      },
      "execution_count": null,
      "outputs": []
    },
    {
      "cell_type": "markdown",
      "source": [
        "----\n",
        "## 문제 1번 (5점+5점+10점 = 30점). 분수의 덧셈, 뺄셈, 나눗셈 함수 작성"
      ],
      "metadata": {
        "id": "ECpe4nds2tgl"
      }
    },
    {
      "cell_type": "code",
      "source": [
        "import math # math.lcm, math.gcd 등등 활용을 위해 import\n",
        "\n",
        "\n",
        "# 통분해서 계산하고 결과는 약분해서\n",
        "def addFrac(q1, q2):\n",
        "  gcd_val = math.gcd(q1[1], q2[1])\n",
        "  lcm_val = math.lcm(q1[1], q2[1])\n",
        "\n",
        "  numerator = q1[0] * (lcm_val // q1[1]) + q2[0] * (lcm_val // q2[1])\n",
        "  denominator = lcm_val\n",
        "\n",
        "  gcd_val = math.gcd(numerator, denominator)\n",
        "  return (numerator // gcd_val, denominator // gcd_val)\n",
        "\n",
        "\n",
        "# 통분해서 계산하고 결과는 약분해서\n",
        "def subFrac(q1, q2):\n",
        "  gcd_val = math.gcd(q1[1], q2[1])\n",
        "  lcm_val = math.lcm(q1[1], q2[1])\n",
        "\n",
        "  numerator = q1[0] * (lcm_val // q1[1]) - q2[0] * (lcm_val // q2[1])\n",
        "  denominator = lcm_val\n",
        "\n",
        "  gcd_val = math.gcd(numerator, denominator)\n",
        "  return (numerator // gcd_val, denominator // gcd_val)\n",
        "\n",
        "# q1을 q2로 나눈 몫(정수)과 나머지(유리수)를 순서쌍으로 리턴\n",
        "# 나머지도 유리수이므로 마찬가지로 약분한 결과로\n",
        "def divFrac(q1, q2):\n",
        "  numerator = q1[0] * q2[1]\n",
        "  denominator = q1[1] * q2[0]\n",
        "\n",
        "  quotient = numerator // denominator\n",
        "  remainder_numerator = numerator % denominator\n",
        "\n",
        "  gcd_val = math.gcd(remainder_numerator, denominator)\n",
        "  remainder = (remainder_numerator // gcd_val, denominator // gcd_val)\n",
        "\n",
        "  return (quotient, remainder)"
      ],
      "metadata": {
        "id": "NONCTatxP7T9"
      },
      "execution_count": null,
      "outputs": []
    },
    {
      "cell_type": "code",
      "source": [
        "addFrac([1,5], [5,4])"
      ],
      "metadata": {
        "colab": {
          "base_uri": "https://localhost:8080/"
        },
        "id": "qiDLzFsNWqEW",
        "outputId": "b9bad7d9-40d0-4cb1-c3e9-487ed7e814ef"
      },
      "execution_count": null,
      "outputs": [
        {
          "output_type": "execute_result",
          "data": {
            "text/plain": [
              "(29, 20)"
            ]
          },
          "metadata": {},
          "execution_count": 182
        }
      ]
    },
    {
      "cell_type": "code",
      "source": [
        "subFrac([1,5], [5,4])"
      ],
      "metadata": {
        "colab": {
          "base_uri": "https://localhost:8080/"
        },
        "id": "ucOj4iXWWrVL",
        "outputId": "530a16de-0fca-456f-e70a-5aaec1937220"
      },
      "execution_count": null,
      "outputs": [
        {
          "output_type": "execute_result",
          "data": {
            "text/plain": [
              "(-21, 20)"
            ]
          },
          "metadata": {},
          "execution_count": 183
        }
      ]
    },
    {
      "cell_type": "code",
      "source": [
        "divFrac([1,5], [5,4])"
      ],
      "metadata": {
        "colab": {
          "base_uri": "https://localhost:8080/",
          "height": 174
        },
        "id": "QEZvXKnKWrn-",
        "outputId": "358fc77a-3d5e-4ac4-fc19-3069b35806fc"
      },
      "execution_count": null,
      "outputs": [
        {
          "output_type": "error",
          "ename": "NameError",
          "evalue": "ignored",
          "traceback": [
            "\u001b[0;31m---------------------------------------------------------------------------\u001b[0m",
            "\u001b[0;31mNameError\u001b[0m                                 Traceback (most recent call last)",
            "\u001b[0;32m<ipython-input-2-1555631cfc34>\u001b[0m in \u001b[0;36m<cell line: 1>\u001b[0;34m()\u001b[0m\n\u001b[0;32m----> 1\u001b[0;31m \u001b[0mdivFrac\u001b[0m\u001b[0;34m(\u001b[0m\u001b[0;34m[\u001b[0m\u001b[0;36m1\u001b[0m\u001b[0;34m,\u001b[0m\u001b[0;36m5\u001b[0m\u001b[0;34m]\u001b[0m\u001b[0;34m,\u001b[0m \u001b[0;34m[\u001b[0m\u001b[0;36m5\u001b[0m\u001b[0;34m,\u001b[0m\u001b[0;36m4\u001b[0m\u001b[0;34m]\u001b[0m\u001b[0;34m)\u001b[0m\u001b[0;34m\u001b[0m\u001b[0;34m\u001b[0m\u001b[0m\n\u001b[0m",
            "\u001b[0;31mNameError\u001b[0m: name 'divFrac' is not defined"
          ]
        }
      ]
    },
    {
      "cell_type": "code",
      "source": [
        "print( math.gcd(12,15), math.lcm(12,15) ) # 12와 15의 최소공배수와 최대공약수"
      ],
      "metadata": {
        "colab": {
          "base_uri": "https://localhost:8080/"
        },
        "id": "wirlOq8XQDXW",
        "outputId": "23790c1a-a54f-41cb-f919-903db939d45e"
      },
      "execution_count": null,
      "outputs": [
        {
          "output_type": "stream",
          "name": "stdout",
          "text": [
            "3 60\n"
          ]
        }
      ]
    },
    {
      "cell_type": "markdown",
      "source": [
        "----\n",
        "## 문제 2번 (10점). 0부터 9까지 글자와 A부터 Z까지 글자를 정수로 변환\n",
        "2진법부터 36진법까지의 수를 표현하는 문자열에 나타나는\n",
        "각 글자를 수치로 변환하는 데 활용할 아래의 `digit2int` 함수를 작성하라."
      ],
      "metadata": {
        "id": "PCdLhvR01gbw"
      }
    },
    {
      "cell_type": "code",
      "execution_count": null,
      "metadata": {
        "id": "petOd9Qwmb_B"
      },
      "outputs": [],
      "source": [
        " # 0부터 9까지 글자와 A부터 Z까지의 글자를 컴퓨터 정수값으로 변환\n",
        "  # 0부터 9는 정수 0부터 9로\n",
        "  # A부터 Z는 정수 10부터 35로\n",
        "def digit2int(c):\n",
        "  il=list()\n",
        "  for char in c:\n",
        "    il.append(char)\n",
        "  for i,item in enumerate(il):\n",
        "    if 47<ord(item)<58:\n",
        "      il[i]=int(item)\n",
        "    elif 64<ord(item.upper())<91:\n",
        "      il[i]=ord(item.upper())-55\n",
        "    else:\n",
        "      print(\"범위를 밖입니다.\")\n",
        "      return None\n",
        "\n",
        "  return il\n",
        "\n",
        "\n",
        ""
      ]
    },
    {
      "cell_type": "code",
      "source": [
        "print( int('ZZZ',36) )\n",
        "print( 35*36 + 35 )"
      ],
      "metadata": {
        "colab": {
          "base_uri": "https://localhost:8080/"
        },
        "id": "Oh-WvYk1mpsC",
        "outputId": "eda158f5-c08d-4309-b0b3-4d787b3bb0d3"
      },
      "execution_count": null,
      "outputs": [
        {
          "output_type": "stream",
          "name": "stdout",
          "text": [
            "46655\n",
            "1295\n"
          ]
        }
      ]
    },
    {
      "cell_type": "code",
      "source": [
        "digit2int(\"Z9z\")"
      ],
      "metadata": {
        "colab": {
          "base_uri": "https://localhost:8080/"
        },
        "id": "3sb_xUydbGDP",
        "outputId": "2307ca42-8b05-4be1-c777-631b09b5f145"
      },
      "execution_count": null,
      "outputs": [
        {
          "output_type": "execute_result",
          "data": {
            "text/plain": [
              "[35, 9, 35]"
            ]
          },
          "metadata": {},
          "execution_count": 41
        }
      ]
    },
    {
      "cell_type": "markdown",
      "source": [
        "----\n",
        "`m`진법 자연수(음이 아닌 정수)를 나타내는 문자열 `str`을\n",
        "`n`진법 자연수를 나타내는 문자열로 변환하는 함수\n",
        "`convert_base_nat(str, m, n)`을 작성하라.\n",
        "\n",
        "정수에 대한 진법 변환은 오차가 없으므로 어떤 방식을 활용하든 크게 관계없다.\n",
        "2진법에서 36진법까지 모두 작동하기만 하면 된다.\n",
        "그러니까 붙박이 함수 `int`를 활용해도 좋다.\n",
        "\n",
        "이 함수를 사용할 때는 우량한 형태의 `str`이 들어온다고 가정할 것이므로,\n",
        "함수 몸체에서 `str`이 올바른 `m`진법 자연수의 형태의 문자열인지\n",
        "따로 검사하는 validation은 하지 말라.\n",
        "\n",
        "이 함수는 과제를 완성하기 위해서 필요하므로 반드시 작성해야 하지만\n",
        "chatGPT에게 물어봐도 이정도는 간단히 해줄 것이이므로\n",
        "이 부분을 완성하는 것에 대한 과제 점수는 없다.\n"
      ],
      "metadata": {
        "id": "BoiDIyH33YNR"
      }
    },
    {
      "cell_type": "code",
      "source": [
        "def convert_base_nat(s, m, n):\n",
        "    sl=digit2int(s)\n",
        "    def to_decimal(sl, m):\n",
        "        decimal = 0\n",
        "        for digit in sl:\n",
        "            decimal = decimal * m + int(digit, m)\n",
        "        return decimal\n",
        "\n",
        "    def from_decimal(n, m):\n",
        "        if n == 0:\n",
        "            return '0'\n",
        "        digits = []\n",
        "        while n > 0:\n",
        "            digits.append(str(convert_alpha(n, n % m)))\n",
        "            n //= m\n",
        "        return ''.join(digits[::-1])\n",
        "\n",
        "    decimal = to_decimal(s, m)\n",
        "    result = from_decimal(decimal, n)\n",
        "    return result\n",
        "\n"
      ],
      "metadata": {
        "id": "765HGYMwRipx"
      },
      "execution_count": null,
      "outputs": []
    },
    {
      "cell_type": "code",
      "source": [
        "convert_base_nat(\"Z9Z\", 36, 2)"
      ],
      "metadata": {
        "colab": {
          "base_uri": "https://localhost:8080/",
          "height": 35
        },
        "id": "zNCFlDtykFH6",
        "outputId": "0e7cfdc0-ad02-4ae8-b672-d112c774d51a"
      },
      "execution_count": null,
      "outputs": [
        {
          "output_type": "execute_result",
          "data": {
            "text/plain": [
              "'1011001010010111'"
            ],
            "application/vnd.google.colaboratory.intrinsic+json": {
              "type": "string"
            }
          },
          "metadata": {},
          "execution_count": 24
        }
      ]
    },
    {
      "cell_type": "markdown",
      "source": [
        "----\n",
        "## 문제 3번 (60점). `convert_base(s, m, n, p)` 함수 작성\n",
        "\n",
        "`m` 진법의 수를 나타내는 문자열 `str`을\n",
        "`n` 진법의 수를 나타내는 문자열로 변환하는\n",
        "함수 `convert_base(str, m, n, p)`를 작성하라.\n",
        "\n",
        "`str`이 우량한 형태인지, 즉 m진법의 정수 혹은 실수(소수점 하나 포함) 형태인지\n",
        "검사하는 내용을 포함하라. 만일 불량한 입력이면 `ValueError`를 `raise`하라.\n",
        "\n",
        "`str`이 정수 형태라면, 그냥 앞서 작성한 `convert_base_nat`을 호출하기만 하면 된다.\n",
        "\n",
        "`str`이 소수점이 하나 포함횐 형태라면,\n",
        "정수 부분은 `convert_base_nat`를 활용해 변환하고,\n",
        "소수점 아래 부분을 분수 혹은 여러 개의 분수로 표현하여\n",
        "중간에 2진법을 거치지 않고 직접 m진법에서 m진법으로\n",
        "분수의 덧셈 뺄셈 나눗셈 등의 연산을 활용한 소수점 아래 자리들에 대한 진법 변환을 하라.\n",
        "그리고 정수 부분이 변환된 문자열과 소수점 아래 자리들이 변환된 문자열을 가운데\n",
        "`'.'`을 두고 이어붙여서 리턴하면 될 것이다.\n",
        "\n",
        "마지막 파라메터 `p`는 최대 소수점 몇째 자리까지 계산할지 정해주는 용도이다.\n",
        "`m`과 `n`의 범위 즉 진법은 2진법부터 36진법까지로 하자.\n",
        "36진법의 경우는 0부터 9까지 열 개의 digit과 A부터 Z까지 알파벳 26글자를 모두 활용하게 된다.\n"
      ],
      "metadata": {
        "id": "szETKpEo5tRO"
      }
    },
    {
      "cell_type": "markdown",
      "source": [
        "정수 진법변환"
      ],
      "metadata": {
        "id": "HGGwX9YPU6YG"
      }
    },
    {
      "cell_type": "code",
      "source": [
        "\n",
        "def convert_base_nat(s, m, n):\n",
        "    sl=digit2int(s)\n",
        "    def to_decimal(sl, m):\n",
        "        decimal = 0\n",
        "        for digit in sl:\n",
        "            decimal = decimal * m + int(digit, m)\n",
        "        return decimal\n",
        "\n",
        "    def from_decimal(n, m):\n",
        "        if n == 0:\n",
        "            return '0'\n",
        "        digits = []\n",
        "        while n > 0:\n",
        "            digits.append(str(convert_alpha(n, n % m)))\n",
        "            n //= m\n",
        "        return ''.join(digits[::-1])\n",
        "\n",
        "    decimal = to_decimal(s, m)\n",
        "    result = from_decimal(decimal, n)\n",
        "    return result"
      ],
      "metadata": {
        "id": "3N-NIKrO9nqQ"
      },
      "execution_count": null,
      "outputs": []
    },
    {
      "cell_type": "markdown",
      "source": [
        "10 이상일 때 마지막 출력 알파벳으로"
      ],
      "metadata": {
        "id": "A83tlRDmUzSU"
      }
    },
    {
      "cell_type": "code",
      "source": [
        "\n",
        "def convert_alpha(m, num):\n",
        "  if m > 10 and num >= 10:\n",
        "    return chr(65 + num - 10)\n",
        "  else:\n",
        "    return num"
      ],
      "metadata": {
        "id": "FvR4vot68ZBN"
      },
      "execution_count": null,
      "outputs": []
    },
    {
      "cell_type": "markdown",
      "source": [
        "소수점이하 진법 변환"
      ],
      "metadata": {
        "id": "GdDvScvfUvJB"
      }
    },
    {
      "cell_type": "code",
      "source": [
        "\n",
        "# s는 소수점 자리\n",
        "# m은 s의 진수\n",
        "# n은 바꿀 진수\n",
        "# p 는 유효숫자 자리\n",
        "\n",
        "\n",
        "\n",
        "def convert_base_frac2(s, m, n, p):\n",
        "  s=digit2int(s)\n",
        "  if m >= 10:\n",
        "    new_s = 0\n",
        "    for i, v in enumerate(s):\n",
        "      new_s += int(v) / (m ** (i + 1))\n",
        "    s = list(map(lambda x: x, str(new_s).split(\".\")[1]))\n",
        "  if n == 10 and m>=10:\n",
        "    return \"\".join(map(lambda x: str(x), s))\n",
        "  num = 0\n",
        "  den = m ** len(s)\n",
        "  for i in range(len(s)):\n",
        "    num += int(s[i]) * (m ** (len(s) - (i + 1)))\n",
        "  # 10진수로 컨버팅 했으니, 유효숫자 구하기\n",
        "  cnt = 0\n",
        "  na = 0\n",
        "  result = \"\"\n",
        "  while cnt < p and num != 0:\n",
        "    na = num * n\n",
        "    result += str(convert_alpha(n, na // den))\n",
        "    num = na % den\n",
        "    cnt += 1\n",
        "\n",
        "  #a = \"\".join(map(lambda x: str(x), s))\n",
        "  #print(f\"{m}진수 0.{a}를 {n}진수로 바꾸면 0.{result}이라네(유효숫자 {p}자리)\")\n",
        "  return result\n",
        "\n",
        "\n"
      ],
      "metadata": {
        "id": "AEdtcbT4thhQ"
      },
      "execution_count": null,
      "outputs": []
    },
    {
      "cell_type": "markdown",
      "source": [
        "에러체크"
      ],
      "metadata": {
        "id": "62nrFv9OUJwM"
      }
    },
    {
      "cell_type": "code",
      "source": [
        "def check_e(s,m):\n",
        "  if s==None:\n",
        "      raise ValueError(\"2~36진법의 수를 입력해주십시오\")\n",
        "  elif s.count('.') >= 2:\n",
        "      raise ValueError(\"소수점은 1개 이하로 입력가능합니다.\")\n",
        "  elif any(not (char.isalnum() or char == '.') for char in s):\n",
        "      raise ValueError(\"특수 문자는 . 만 입력가능합니다.\")\n",
        "  else:\n",
        "    if \".\" in s :\n",
        "      i1,f2= s.split(\".\")\n",
        "      i=digit2int(i1)\n",
        "      f=digit2int(f2)\n",
        "      if i==None or f==None :\n",
        "        for j,item in enumerate(i):\n",
        "          if item >= m:\n",
        "            raise ValueError(\" 입력한 수가 진법을 초과하였습니다.\")\n",
        "        for j,item in enumerate(f):\n",
        "          if item >= m:\n",
        "            raise ValueError(\" 입력한 수가 진법을 초과하였습니다.\")\n",
        "    else:\n",
        "      s=digit2int(s)\n",
        "\n",
        "    if s==None:\n",
        "      raise ValueError(\"범위 밖입니다\")\n",
        "    for j,item in enumerate(s):\n",
        "      if item >= m:\n",
        "        raise ValueError(\" 입력한 수가 진법을 초과하였습니다.\")\n",
        "\n"
      ],
      "metadata": {
        "id": "1yjjtss6Lr4M"
      },
      "execution_count": null,
      "outputs": []
    },
    {
      "cell_type": "markdown",
      "source": [
        "종합"
      ],
      "metadata": {
        "id": "HuCmbEwxU9ty"
      }
    },
    {
      "cell_type": "code",
      "source": [
        "def convert_base(s, m, n, p):\n",
        "  check_e(s,m)\n",
        "  if \".\" in s :\n",
        "    i1,f2= s.split(\".\")\n",
        "    f2 = list(map(lambda x: x, f2))\n",
        "    o=convert_base_nat(i1, m, n)\n",
        "    rn=convert_base_frac2(f2, m, n, p)\n",
        "    #print(rn)\n",
        "    return o+\".\"+rn\n",
        "  else:\n",
        "    return convert_base_nat(s, m, n)\n",
        "\n"
      ],
      "metadata": {
        "id": "kUlGtFol7khP"
      },
      "execution_count": null,
      "outputs": []
    },
    {
      "cell_type": "markdown",
      "source": [
        "테스트"
      ],
      "metadata": {
        "id": "ekXbFf95U_lE"
      }
    },
    {
      "cell_type": "code",
      "source": [
        "convert_base(\"ff\", 16, 10,50)"
      ],
      "metadata": {
        "colab": {
          "base_uri": "https://localhost:8080/",
          "height": 35
        },
        "id": "pcnDZxp4KK3z",
        "outputId": "ac88e434-32fb-4098-ef4c-ccea68e916eb"
      },
      "execution_count": null,
      "outputs": [
        {
          "output_type": "execute_result",
          "data": {
            "text/plain": [
              "'255'"
            ],
            "application/vnd.google.colaboratory.intrinsic+json": {
              "type": "string"
            }
          },
          "metadata": {},
          "execution_count": 178
        }
      ]
    },
    {
      "cell_type": "code",
      "source": [
        "convert_base(\"zz\", 36, 10,50)"
      ],
      "metadata": {
        "colab": {
          "base_uri": "https://localhost:8080/",
          "height": 35
        },
        "id": "uOIpEkKhUAfR",
        "outputId": "08d7f0ff-de34-449d-e140-67ae8a78ce35"
      },
      "execution_count": null,
      "outputs": [
        {
          "output_type": "execute_result",
          "data": {
            "text/plain": [
              "'1295'"
            ],
            "application/vnd.google.colaboratory.intrinsic+json": {
              "type": "string"
            }
          },
          "metadata": {},
          "execution_count": 180
        }
      ]
    },
    {
      "cell_type": "code",
      "source": [
        "convert_base(\"ff.ff\", 16, 10,50)"
      ],
      "metadata": {
        "colab": {
          "base_uri": "https://localhost:8080/",
          "height": 35
        },
        "id": "rWY2dMM-m_aW",
        "outputId": "0cc82363-b440-4ae3-8b5a-4ca034faaf8f"
      },
      "execution_count": null,
      "outputs": [
        {
          "output_type": "execute_result",
          "data": {
            "text/plain": [
              "'255.99609375'"
            ],
            "application/vnd.google.colaboratory.intrinsic+json": {
              "type": "string"
            }
          },
          "metadata": {},
          "execution_count": 139
        }
      ]
    },
    {
      "cell_type": "code",
      "source": [
        "convert_base(\"254.9375\", 10, 16,5)"
      ],
      "metadata": {
        "colab": {
          "base_uri": "https://localhost:8080/",
          "height": 35
        },
        "id": "4rRSBuJvBc7K",
        "outputId": "f72d2a57-ed16-4759-bd87-e0531fe5ed0b"
      },
      "execution_count": null,
      "outputs": [
        {
          "output_type": "execute_result",
          "data": {
            "text/plain": [
              "'FE.F'"
            ],
            "application/vnd.google.colaboratory.intrinsic+json": {
              "type": "string"
            }
          },
          "metadata": {},
          "execution_count": 131
        }
      ]
    },
    {
      "cell_type": "code",
      "source": [
        "convert_base(\"101010.010101\", 2, 10,50)"
      ],
      "metadata": {
        "colab": {
          "base_uri": "https://localhost:8080/",
          "height": 35
        },
        "id": "wuaN8J0ZBcyc",
        "outputId": "de877209-5af4-4aea-aa8d-1eb5fa508969"
      },
      "execution_count": null,
      "outputs": [
        {
          "output_type": "execute_result",
          "data": {
            "text/plain": [
              "'42.328125'"
            ],
            "application/vnd.google.colaboratory.intrinsic+json": {
              "type": "string"
            }
          },
          "metadata": {},
          "execution_count": 156
        }
      ]
    },
    {
      "cell_type": "markdown",
      "source": [
        "기타 노력의 흔적입니다"
      ],
      "metadata": {
        "id": "AYtjEYAn-Ern"
      }
    },
    {
      "cell_type": "code",
      "source": [
        "def convert_base_frac(s, m, n):\n",
        "  frac1=list()\n",
        "  frac2=list()\n",
        "\n",
        "  result=list()\n",
        "  for i,item in enumerate(s):\n",
        "    frac1.append(item)\n",
        "    frac2.append((m**(i+1)))\n",
        "\n",
        "    if i>0:\n",
        "      frac1[0],frac2[0]=addFrac([frac1[0],frac2[0]], [frac1[i],frac2[i]])\n",
        "  print(frac1[0],frac2[0])\n",
        "\n"
      ],
      "metadata": {
        "id": "3t08MZDfc9k4"
      },
      "execution_count": null,
      "outputs": []
    },
    {
      "cell_type": "code",
      "source": [
        "check_e(\"ff\",16)"
      ],
      "metadata": {
        "id": "fS6LGLVEQSk7"
      },
      "execution_count": null,
      "outputs": []
    },
    {
      "cell_type": "code",
      "source": [
        "convert_base_frac2([14], 16, 10, 5)"
      ],
      "metadata": {
        "colab": {
          "base_uri": "https://localhost:8080/"
        },
        "id": "dMck9lxuw_FT",
        "outputId": "c51151c4-0421-4db1-f71a-f5892582d296"
      },
      "execution_count": null,
      "outputs": [
        {
          "output_type": "stream",
          "name": "stdout",
          "text": [
            "16진수 0.14를 10진수로 바꾸면 0.875이라네(유효숫자 5자리)\n"
          ]
        },
        {
          "output_type": "execute_result",
          "data": {
            "text/plain": [
              "[8, 7, 5]"
            ]
          },
          "metadata": {},
          "execution_count": 46
        }
      ]
    },
    {
      "cell_type": "code",
      "source": [
        "convert_base_frac([1,0,1], 2, 10)"
      ],
      "metadata": {
        "colab": {
          "base_uri": "https://localhost:8080/"
        },
        "id": "5GdUqOjXkvZJ",
        "outputId": "1065d453-5bcd-46b8-8a2a-554dbf2b71e0"
      },
      "execution_count": null,
      "outputs": [
        {
          "output_type": "stream",
          "name": "stdout",
          "text": [
            "1333 46656\n"
          ]
        }
      ]
    },
    {
      "cell_type": "code",
      "source": [
        "s=\"123.123\"\n",
        "i1,f2= s.split(\".\")\n",
        "print(i1,f2)"
      ],
      "metadata": {
        "colab": {
          "base_uri": "https://localhost:8080/"
        },
        "id": "2ERf63XZnAVd",
        "outputId": "addff31d-e709-4c5f-e800-472ee9b43317"
      },
      "execution_count": null,
      "outputs": [
        {
          "output_type": "stream",
          "name": "stdout",
          "text": [
            "123 123\n"
          ]
        }
      ]
    },
    {
      "cell_type": "code",
      "source": [
        "a = 0\n",
        "for i in range(1, 4):\n",
        "  a += 1 / (36 ** i)\n",
        "\n",
        "a #list(map(lambda x: x, str(a).split('.')[1]))"
      ],
      "metadata": {
        "colab": {
          "base_uri": "https://localhost:8080/"
        },
        "id": "FT4gUIsG1iPv",
        "outputId": "1ee08c55-5bbb-4e21-a116-4635ce5cfcaf"
      },
      "execution_count": null,
      "outputs": [
        {
          "output_type": "execute_result",
          "data": {
            "text/plain": [
              "0.028570816186556925"
            ]
          },
          "metadata": {},
          "execution_count": 74
        }
      ]
    },
    {
      "cell_type": "code",
      "source": [
        "list/m**(index+1)"
      ],
      "metadata": {
        "id": "gYgwoTK8GlEX"
      },
      "execution_count": null,
      "outputs": []
    },
    {
      "cell_type": "code",
      "source": [
        "a = [1, 1, 1]\n",
        "m = 36\n",
        "\n",
        "s = 0\n",
        "for i, v in enumerate(a):\n",
        "  div = m ** (i+1)\n",
        "  s += v / div\n",
        "print(s)"
      ],
      "metadata": {
        "colab": {
          "base_uri": "https://localhost:8080/"
        },
        "id": "OmLcEnHX5CAO",
        "outputId": "6aae50eb-54b3-4cd7-a449-f18edea61860"
      },
      "execution_count": null,
      "outputs": [
        {
          "output_type": "stream",
          "name": "stdout",
          "text": [
            "0.028570816186556925\n"
          ]
        }
      ]
    }
  ]
}